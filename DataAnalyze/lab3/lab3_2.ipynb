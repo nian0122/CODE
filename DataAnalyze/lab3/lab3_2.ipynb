{
 "cells": [
  {
   "cell_type": "code",
   "execution_count": 1,
   "id": "initial_id",
   "metadata": {
    "ExecuteTime": {
     "end_time": "2025-05-01T09:07:33.819348Z",
     "start_time": "2025-05-01T09:07:33.811644Z"
    }
   },
   "outputs": [],
   "source": [
    "import pandas as pd\n",
    "df_erosion=pd.read_csv(\"o-ring-erosion-only.csv\",\n",
    "                      names=['Number of O-ring at risk on a given flight','Number experiencing thermal distress',\n",
    "                            'Launch temperature(degrees F)','Leak-check pressure(psi)','Temporal order of flight'])"
   ]
  },
  {
   "cell_type": "code",
   "execution_count": 2,
   "id": "b41d97c1163c1a28",
   "metadata": {
    "ExecuteTime": {
     "end_time": "2025-05-01T09:07:42.378215Z",
     "start_time": "2025-05-01T09:07:42.357768Z"
    }
   },
   "outputs": [
    {
     "data": {
      "text/html": [
       "<div>\n",
       "<style scoped>\n",
       "    .dataframe tbody tr th:only-of-type {\n",
       "        vertical-align: middle;\n",
       "    }\n",
       "\n",
       "    .dataframe tbody tr th {\n",
       "        vertical-align: top;\n",
       "    }\n",
       "\n",
       "    .dataframe thead th {\n",
       "        text-align: right;\n",
       "    }\n",
       "</style>\n",
       "<table border=\"1\" class=\"dataframe\">\n",
       "  <thead>\n",
       "    <tr style=\"text-align: right;\">\n",
       "      <th></th>\n",
       "      <th>Number of O-ring at risk on a given flight</th>\n",
       "      <th>Number experiencing thermal distress</th>\n",
       "      <th>Launch temperature(degrees F)</th>\n",
       "      <th>Leak-check pressure(psi)</th>\n",
       "      <th>Temporal order of flight</th>\n",
       "    </tr>\n",
       "  </thead>\n",
       "  <tbody>\n",
       "    <tr>\n",
       "      <th>0</th>\n",
       "      <td>6</td>\n",
       "      <td>0</td>\n",
       "      <td>66</td>\n",
       "      <td>50</td>\n",
       "      <td>1</td>\n",
       "    </tr>\n",
       "    <tr>\n",
       "      <th>1</th>\n",
       "      <td>6</td>\n",
       "      <td>1</td>\n",
       "      <td>70</td>\n",
       "      <td>50</td>\n",
       "      <td>2</td>\n",
       "    </tr>\n",
       "    <tr>\n",
       "      <th>2</th>\n",
       "      <td>6</td>\n",
       "      <td>0</td>\n",
       "      <td>69</td>\n",
       "      <td>50</td>\n",
       "      <td>3</td>\n",
       "    </tr>\n",
       "    <tr>\n",
       "      <th>3</th>\n",
       "      <td>6</td>\n",
       "      <td>0</td>\n",
       "      <td>68</td>\n",
       "      <td>50</td>\n",
       "      <td>4</td>\n",
       "    </tr>\n",
       "    <tr>\n",
       "      <th>4</th>\n",
       "      <td>6</td>\n",
       "      <td>0</td>\n",
       "      <td>67</td>\n",
       "      <td>50</td>\n",
       "      <td>5</td>\n",
       "    </tr>\n",
       "  </tbody>\n",
       "</table>\n",
       "</div>"
      ],
      "text/plain": [
       "   Number of O-ring at risk on a given flight  \\\n",
       "0                                           6   \n",
       "1                                           6   \n",
       "2                                           6   \n",
       "3                                           6   \n",
       "4                                           6   \n",
       "\n",
       "   Number experiencing thermal distress  Launch temperature(degrees F)  \\\n",
       "0                                     0                             66   \n",
       "1                                     1                             70   \n",
       "2                                     0                             69   \n",
       "3                                     0                             68   \n",
       "4                                     0                             67   \n",
       "\n",
       "   Leak-check pressure(psi)  Temporal order of flight  \n",
       "0                        50                         1  \n",
       "1                        50                         2  \n",
       "2                        50                         3  \n",
       "3                        50                         4  \n",
       "4                        50                         5  "
      ]
     },
     "execution_count": 2,
     "metadata": {},
     "output_type": "execute_result"
    }
   ],
   "source": [
    "df_erosion.head()"
   ]
  },
  {
   "cell_type": "code",
   "execution_count": 3,
   "id": "51861249dc3f8925",
   "metadata": {
    "ExecuteTime": {
     "end_time": "2025-05-01T09:08:08.851529Z",
     "start_time": "2025-05-01T09:08:08.828912Z"
    }
   },
   "outputs": [
    {
     "data": {
      "text/html": [
       "<div>\n",
       "<style scoped>\n",
       "    .dataframe tbody tr th:only-of-type {\n",
       "        vertical-align: middle;\n",
       "    }\n",
       "\n",
       "    .dataframe tbody tr th {\n",
       "        vertical-align: top;\n",
       "    }\n",
       "\n",
       "    .dataframe thead th {\n",
       "        text-align: right;\n",
       "    }\n",
       "</style>\n",
       "<table border=\"1\" class=\"dataframe\">\n",
       "  <thead>\n",
       "    <tr style=\"text-align: right;\">\n",
       "      <th></th>\n",
       "      <th>Number of O-ring at risk on a given flight</th>\n",
       "      <th>Number experiencing thermal distress</th>\n",
       "      <th>Launch temperature(degrees F)</th>\n",
       "      <th>Leak-check pressure(psi)</th>\n",
       "      <th>Temporal order of flight</th>\n",
       "    </tr>\n",
       "  </thead>\n",
       "  <tbody>\n",
       "    <tr>\n",
       "      <th>count</th>\n",
       "      <td>23.0</td>\n",
       "      <td>23.000000</td>\n",
       "      <td>23.000000</td>\n",
       "      <td>23.000000</td>\n",
       "      <td>23.00000</td>\n",
       "    </tr>\n",
       "    <tr>\n",
       "      <th>mean</th>\n",
       "      <td>6.0</td>\n",
       "      <td>0.391304</td>\n",
       "      <td>69.565217</td>\n",
       "      <td>152.173913</td>\n",
       "      <td>12.00000</td>\n",
       "    </tr>\n",
       "    <tr>\n",
       "      <th>std</th>\n",
       "      <td>0.0</td>\n",
       "      <td>0.656376</td>\n",
       "      <td>7.057080</td>\n",
       "      <td>68.221332</td>\n",
       "      <td>6.78233</td>\n",
       "    </tr>\n",
       "    <tr>\n",
       "      <th>min</th>\n",
       "      <td>6.0</td>\n",
       "      <td>0.000000</td>\n",
       "      <td>53.000000</td>\n",
       "      <td>50.000000</td>\n",
       "      <td>1.00000</td>\n",
       "    </tr>\n",
       "    <tr>\n",
       "      <th>25%</th>\n",
       "      <td>6.0</td>\n",
       "      <td>0.000000</td>\n",
       "      <td>67.000000</td>\n",
       "      <td>75.000000</td>\n",
       "      <td>6.50000</td>\n",
       "    </tr>\n",
       "    <tr>\n",
       "      <th>50%</th>\n",
       "      <td>6.0</td>\n",
       "      <td>0.000000</td>\n",
       "      <td>70.000000</td>\n",
       "      <td>200.000000</td>\n",
       "      <td>12.00000</td>\n",
       "    </tr>\n",
       "    <tr>\n",
       "      <th>75%</th>\n",
       "      <td>6.0</td>\n",
       "      <td>1.000000</td>\n",
       "      <td>75.000000</td>\n",
       "      <td>200.000000</td>\n",
       "      <td>17.50000</td>\n",
       "    </tr>\n",
       "    <tr>\n",
       "      <th>max</th>\n",
       "      <td>6.0</td>\n",
       "      <td>2.000000</td>\n",
       "      <td>81.000000</td>\n",
       "      <td>200.000000</td>\n",
       "      <td>23.00000</td>\n",
       "    </tr>\n",
       "  </tbody>\n",
       "</table>\n",
       "</div>"
      ],
      "text/plain": [
       "       Number of O-ring at risk on a given flight  \\\n",
       "count                                        23.0   \n",
       "mean                                          6.0   \n",
       "std                                           0.0   \n",
       "min                                           6.0   \n",
       "25%                                           6.0   \n",
       "50%                                           6.0   \n",
       "75%                                           6.0   \n",
       "max                                           6.0   \n",
       "\n",
       "       Number experiencing thermal distress  Launch temperature(degrees F)  \\\n",
       "count                             23.000000                      23.000000   \n",
       "mean                               0.391304                      69.565217   \n",
       "std                                0.656376                       7.057080   \n",
       "min                                0.000000                      53.000000   \n",
       "25%                                0.000000                      67.000000   \n",
       "50%                                0.000000                      70.000000   \n",
       "75%                                1.000000                      75.000000   \n",
       "max                                2.000000                      81.000000   \n",
       "\n",
       "       Leak-check pressure(psi)  Temporal order of flight  \n",
       "count                 23.000000                  23.00000  \n",
       "mean                 152.173913                  12.00000  \n",
       "std                   68.221332                   6.78233  \n",
       "min                   50.000000                   1.00000  \n",
       "25%                   75.000000                   6.50000  \n",
       "50%                  200.000000                  12.00000  \n",
       "75%                  200.000000                  17.50000  \n",
       "max                  200.000000                  23.00000  "
      ]
     },
     "execution_count": 3,
     "metadata": {},
     "output_type": "execute_result"
    }
   ],
   "source": [
    "df_erosion.describe()"
   ]
  },
  {
   "cell_type": "code",
   "execution_count": 4,
   "id": "a2a606fbdda5a51e",
   "metadata": {
    "ExecuteTime": {
     "end_time": "2025-05-01T09:08:15.634778Z",
     "start_time": "2025-05-01T09:08:15.626494Z"
    }
   },
   "outputs": [
    {
     "data": {
      "text/plain": [
       "(23, 5)"
      ]
     },
     "execution_count": 4,
     "metadata": {},
     "output_type": "execute_result"
    }
   ],
   "source": [
    "df_erosion.shape"
   ]
  },
  {
   "cell_type": "code",
   "execution_count": 5,
   "id": "5b464f605dc44308",
   "metadata": {
    "ExecuteTime": {
     "end_time": "2025-05-01T09:08:23.733899Z",
     "start_time": "2025-05-01T09:08:23.727962Z"
    }
   },
   "outputs": [
    {
     "data": {
      "text/plain": [
       "Index(['Number of O-ring at risk on a given flight',\n",
       "       'Number experiencing thermal distress', 'Launch temperature(degrees F)',\n",
       "       'Leak-check pressure(psi)', 'Temporal order of flight'],\n",
       "      dtype='object')"
      ]
     },
     "execution_count": 5,
     "metadata": {},
     "output_type": "execute_result"
    }
   ],
   "source": [
    "df_erosion.columns"
   ]
  },
  {
   "cell_type": "code",
   "execution_count": 6,
   "id": "1a628c013586206b",
   "metadata": {
    "ExecuteTime": {
     "end_time": "2025-05-01T09:08:30.222615Z",
     "start_time": "2025-05-01T09:08:29.986968Z"
    }
   },
   "outputs": [
    {
     "data": {
      "text/plain": [
       "Text(0.5, 1.0, '因变量‘Number experiencing thermal distress’频数分布直方图')"
      ]
     },
     "execution_count": 6,
     "metadata": {},
     "output_type": "execute_result"
    },
    {
     "data": {
      "image/png": "[encoded data removed]",
      "text/plain": [
       "<Figure size 640x480 with 1 Axes>"
      ]
     },
     "metadata": {},
     "output_type": "display_data"
    }
   ],
   "source": [
    "import matplotlib.pyplot as plt\n",
    "plt.rcParams['font.family']=\"simHei\"   #汉字显示 字体设置\n",
    "plt.hist(df_erosion['Number experiencing thermal distress'],\n",
    "        bins=10,\n",
    "        facecolor=\"blue\",\n",
    "        edgecolor=\"black\",\n",
    "        alpha=0.7)\n",
    "plt.xlabel('区间')\n",
    "plt.ylabel('频数')\n",
    "plt.title(\"因变量‘Number experiencing thermal distress’频数分布直方图\")"
   ]
  },
  {
   "cell_type": "code",
   "execution_count": 7,
   "id": "d86de8d1d49ede0",
   "metadata": {
    "ExecuteTime": {
     "end_time": "2025-05-01T09:08:37.598226Z",
     "start_time": "2025-05-01T09:08:37.590870Z"
    }
   },
   "outputs": [
    {
     "name": "stdout",
     "output_type": "stream",
     "text": [
      "0.391304347826087\n",
      "0.4120982986767487\n"
     ]
    }
   ],
   "source": [
    "import numpy as np\n",
    "print(np.mean(df_erosion['Number experiencing thermal distress']))\n",
    "print(np.var(df_erosion['Number experiencing thermal distress']))"
   ]
  },
  {
   "cell_type": "code",
   "execution_count": 8,
   "id": "66e5a2f8b1b2e1e9",
   "metadata": {
    "ExecuteTime": {
     "end_time": "2025-05-01T09:08:43.998824Z",
     "start_time": "2025-05-01T09:08:43.992394Z"
    }
   },
   "outputs": [],
   "source": [
    "df_erosion.rename(columns={'Number of O-ring at risk on a given flight':'num_rings',\n",
    "                          'Launch temperature(degrees F)':'temperature',\n",
    "                          'Leak-check pressure(psi)':'pressure',\n",
    "                          'Number experiencing thermal distress':'num_distress',\n",
    "                          'Temporal order of flight':'order'},inplace=True)\n",
    "order=['num_rings','temperature','pressure','order','num_distress']\n",
    "df_erosion=df_erosion[order]"
   ]
  },
  {
   "cell_type": "code",
   "execution_count": 9,
   "id": "3138e2c1feae29cc",
   "metadata": {
    "ExecuteTime": {
     "end_time": "2025-05-01T09:08:48.935883Z",
     "start_time": "2025-05-01T09:08:48.920054Z"
    }
   },
   "outputs": [
    {
     "data": {
      "text/html": [
       "<div>\n",
       "<style scoped>\n",
       "    .dataframe tbody tr th:only-of-type {\n",
       "        vertical-align: middle;\n",
       "    }\n",
       "\n",
       "    .dataframe tbody tr th {\n",
       "        vertical-align: top;\n",
       "    }\n",
       "\n",
       "    .dataframe thead th {\n",
       "        text-align: right;\n",
       "    }\n",
       "</style>\n",
       "<table border=\"1\" class=\"dataframe\">\n",
       "  <thead>\n",
       "    <tr style=\"text-align: right;\">\n",
       "      <th></th>\n",
       "      <th>num_rings</th>\n",
       "      <th>temperature</th>\n",
       "      <th>pressure</th>\n",
       "      <th>order</th>\n",
       "      <th>num_distress</th>\n",
       "    </tr>\n",
       "  </thead>\n",
       "  <tbody>\n",
       "    <tr>\n",
       "      <th>0</th>\n",
       "      <td>6</td>\n",
       "      <td>66</td>\n",
       "      <td>50</td>\n",
       "      <td>1</td>\n",
       "      <td>0</td>\n",
       "    </tr>\n",
       "    <tr>\n",
       "      <th>1</th>\n",
       "      <td>6</td>\n",
       "      <td>70</td>\n",
       "      <td>50</td>\n",
       "      <td>2</td>\n",
       "      <td>1</td>\n",
       "    </tr>\n",
       "    <tr>\n",
       "      <th>2</th>\n",
       "      <td>6</td>\n",
       "      <td>69</td>\n",
       "      <td>50</td>\n",
       "      <td>3</td>\n",
       "      <td>0</td>\n",
       "    </tr>\n",
       "    <tr>\n",
       "      <th>3</th>\n",
       "      <td>6</td>\n",
       "      <td>68</td>\n",
       "      <td>50</td>\n",
       "      <td>4</td>\n",
       "      <td>0</td>\n",
       "    </tr>\n",
       "    <tr>\n",
       "      <th>4</th>\n",
       "      <td>6</td>\n",
       "      <td>67</td>\n",
       "      <td>50</td>\n",
       "      <td>5</td>\n",
       "      <td>0</td>\n",
       "    </tr>\n",
       "  </tbody>\n",
       "</table>\n",
       "</div>"
      ],
      "text/plain": [
       "   num_rings  temperature  pressure  order  num_distress\n",
       "0          6           66        50      1             0\n",
       "1          6           70        50      2             1\n",
       "2          6           69        50      3             0\n",
       "3          6           68        50      4             0\n",
       "4          6           67        50      5             0"
      ]
     },
     "execution_count": 9,
     "metadata": {},
     "output_type": "execute_result"
    }
   ],
   "source": [
    "df_erosion.head()"
   ]
  },
  {
   "cell_type": "code",
   "execution_count": 10,
   "id": "5b182c37eb8a25e3",
   "metadata": {
    "ExecuteTime": {
     "end_time": "2025-05-01T09:08:54.444624Z",
     "start_time": "2025-05-01T09:08:54.298685Z"
    }
   },
   "outputs": [],
   "source": [
    "import statsmodels.formula.api as smf"
   ]
  },
  {
   "cell_type": "code",
   "execution_count": 11,
   "id": "6869b3f7eb02cffd",
   "metadata": {
    "ExecuteTime": {
     "end_time": "2025-05-01T09:08:58.754028Z",
     "start_time": "2025-05-01T09:08:58.749866Z"
    }
   },
   "outputs": [],
   "source": [
    "x=np.column_stack((df_erosion['num_rings'],df_erosion['temperature']\n",
    "                   ,df_erosion['pressure'],df_erosion['order']))"
   ]
  },
  {
   "cell_type": "code",
   "execution_count": 12,
   "id": "6766610fd50edaae",
   "metadata": {
    "ExecuteTime": {
     "end_time": "2025-05-01T09:09:05.352003Z",
     "start_time": "2025-05-01T09:09:04.668745Z"
    }
   },
   "outputs": [],
   "source": [
    "import statsmodels.api as sm\n",
    "glm=smf.glm('num_distress~num_rings+temperature+pressure+order'\n",
    "            ,df_erosion,family=sm.families.Poisson())"
   ]
  },
  {
   "cell_type": "code",
   "execution_count": 13,
   "id": "473d1aa0ad09b6ba",
   "metadata": {
    "ExecuteTime": {
     "end_time": "2025-05-01T09:09:10.036310Z",
     "start_time": "2025-05-01T09:09:10.022841Z"
    }
   },
   "outputs": [
    {
     "name": "stdout",
     "output_type": "stream",
     "text": [
      "                 Generalized Linear Model Regression Results                  \n",
      "==============================================================================\n",
      "Dep. Variable:           num_distress   No. Observations:                   23\n",
      "Model:                            GLM   Df Residuals:                       19\n",
      "Model Family:                 Poisson   Df Model:                            3\n",
      "Link Function:                    Log   Scale:                          1.0000\n",
      "Method:                          IRLS   Log-Likelihood:                -15.317\n",
      "Date:                Thu, 01 May 2025   Deviance:                       15.407\n",
      "Time:                        18:07:59   Pearson chi2:                     23.4\n",
      "No. Iterations:                     5   Pseudo R-squ. (CS):             0.2633\n",
      "Covariance Type:            nonrobust                                         \n",
      "===============================================================================\n",
      "                  coef    std err          z      P>|z|      [0.025      0.975]\n",
      "-------------------------------------------------------------------------------\n",
      "Intercept       0.0984      0.090      1.094      0.274      -0.078       0.275\n",
      "num_rings       0.5905      0.540      1.094      0.274      -0.468       1.649\n",
      "temperature    -0.0883      0.042     -2.092      0.036      -0.171      -0.006\n",
      "pressure        0.0070      0.010      0.708      0.479      -0.012       0.026\n",
      "order           0.0115      0.077      0.150      0.881      -0.138       0.161\n",
      "===============================================================================\n"
     ]
    }
   ],
   "source": [
    "results=glm.fit()\n",
    "print(results.summary())"
   ]
  },
  {
   "cell_type": "code",
   "execution_count": 14,
   "id": "9f89df236b286fae",
   "metadata": {
    "ExecuteTime": {
     "end_time": "2025-05-01T09:09:16.725773Z",
     "start_time": "2025-05-01T09:09:16.713742Z"
    }
   },
   "outputs": [
    {
     "data": {
      "text/plain": [
       "Intercept      0.098418\n",
       "num_rings      0.590510\n",
       "temperature   -0.088329\n",
       "pressure       0.007007\n",
       "order          0.011480\n",
       "dtype: float64"
      ]
     },
     "execution_count": 14,
     "metadata": {},
     "output_type": "execute_result"
    }
   ],
   "source": [
    "results.params"
   ]
  },
  {
   "cell_type": "code",
   "execution_count": 15,
   "id": "ee4160edb7a22bc2",
   "metadata": {
    "ExecuteTime": {
     "end_time": "2025-05-01T09:09:25.561281Z",
     "start_time": "2025-05-01T09:09:25.549422Z"
    }
   },
   "outputs": [],
   "source": [
    "df_erosion['predict_result']=results.predict(df_erosion)\n",
    "df_erosion['predict_result']=df_erosion['predict_result'].apply(lambda x:round(x,3))"
   ]
  },
  {
   "cell_type": "code",
   "execution_count": 16,
   "id": "37f8c2f28337d0da",
   "metadata": {
    "ExecuteTime": {
     "end_time": "2025-05-01T09:09:29.951028Z",
     "start_time": "2025-05-01T09:09:29.939991Z"
    }
   },
   "outputs": [
    {
     "data": {
      "text/html": [
       "<div>\n",
       "<style scoped>\n",
       "    .dataframe tbody tr th:only-of-type {\n",
       "        vertical-align: middle;\n",
       "    }\n",
       "\n",
       "    .dataframe tbody tr th {\n",
       "        vertical-align: top;\n",
       "    }\n",
       "\n",
       "    .dataframe thead th {\n",
       "        text-align: right;\n",
       "    }\n",
       "</style>\n",
       "<table border=\"1\" class=\"dataframe\">\n",
       "  <thead>\n",
       "    <tr style=\"text-align: right;\">\n",
       "      <th></th>\n",
       "      <th>num_rings</th>\n",
       "      <th>temperature</th>\n",
       "      <th>pressure</th>\n",
       "      <th>order</th>\n",
       "      <th>num_distress</th>\n",
       "      <th>predict_result</th>\n",
       "    </tr>\n",
       "  </thead>\n",
       "  <tbody>\n",
       "    <tr>\n",
       "      <th>0</th>\n",
       "      <td>6</td>\n",
       "      <td>66</td>\n",
       "      <td>50</td>\n",
       "      <td>1</td>\n",
       "      <td>0</td>\n",
       "      <td>0.161</td>\n",
       "    </tr>\n",
       "    <tr>\n",
       "      <th>1</th>\n",
       "      <td>6</td>\n",
       "      <td>70</td>\n",
       "      <td>50</td>\n",
       "      <td>2</td>\n",
       "      <td>1</td>\n",
       "      <td>0.114</td>\n",
       "    </tr>\n",
       "    <tr>\n",
       "      <th>2</th>\n",
       "      <td>6</td>\n",
       "      <td>69</td>\n",
       "      <td>50</td>\n",
       "      <td>3</td>\n",
       "      <td>0</td>\n",
       "      <td>0.126</td>\n",
       "    </tr>\n",
       "    <tr>\n",
       "      <th>3</th>\n",
       "      <td>6</td>\n",
       "      <td>68</td>\n",
       "      <td>50</td>\n",
       "      <td>4</td>\n",
       "      <td>0</td>\n",
       "      <td>0.140</td>\n",
       "    </tr>\n",
       "    <tr>\n",
       "      <th>4</th>\n",
       "      <td>6</td>\n",
       "      <td>67</td>\n",
       "      <td>50</td>\n",
       "      <td>5</td>\n",
       "      <td>0</td>\n",
       "      <td>0.154</td>\n",
       "    </tr>\n",
       "    <tr>\n",
       "      <th>5</th>\n",
       "      <td>6</td>\n",
       "      <td>72</td>\n",
       "      <td>50</td>\n",
       "      <td>6</td>\n",
       "      <td>0</td>\n",
       "      <td>0.100</td>\n",
       "    </tr>\n",
       "    <tr>\n",
       "      <th>6</th>\n",
       "      <td>6</td>\n",
       "      <td>73</td>\n",
       "      <td>100</td>\n",
       "      <td>7</td>\n",
       "      <td>0</td>\n",
       "      <td>0.132</td>\n",
       "    </tr>\n",
       "    <tr>\n",
       "      <th>7</th>\n",
       "      <td>6</td>\n",
       "      <td>70</td>\n",
       "      <td>100</td>\n",
       "      <td>8</td>\n",
       "      <td>0</td>\n",
       "      <td>0.174</td>\n",
       "    </tr>\n",
       "    <tr>\n",
       "      <th>8</th>\n",
       "      <td>6</td>\n",
       "      <td>57</td>\n",
       "      <td>200</td>\n",
       "      <td>9</td>\n",
       "      <td>1</td>\n",
       "      <td>1.118</td>\n",
       "    </tr>\n",
       "    <tr>\n",
       "      <th>9</th>\n",
       "      <td>6</td>\n",
       "      <td>63</td>\n",
       "      <td>200</td>\n",
       "      <td>10</td>\n",
       "      <td>1</td>\n",
       "      <td>0.666</td>\n",
       "    </tr>\n",
       "    <tr>\n",
       "      <th>10</th>\n",
       "      <td>6</td>\n",
       "      <td>70</td>\n",
       "      <td>200</td>\n",
       "      <td>11</td>\n",
       "      <td>1</td>\n",
       "      <td>0.363</td>\n",
       "    </tr>\n",
       "    <tr>\n",
       "      <th>11</th>\n",
       "      <td>6</td>\n",
       "      <td>78</td>\n",
       "      <td>200</td>\n",
       "      <td>12</td>\n",
       "      <td>0</td>\n",
       "      <td>0.181</td>\n",
       "    </tr>\n",
       "    <tr>\n",
       "      <th>12</th>\n",
       "      <td>6</td>\n",
       "      <td>67</td>\n",
       "      <td>200</td>\n",
       "      <td>13</td>\n",
       "      <td>0</td>\n",
       "      <td>0.484</td>\n",
       "    </tr>\n",
       "    <tr>\n",
       "      <th>13</th>\n",
       "      <td>6</td>\n",
       "      <td>53</td>\n",
       "      <td>200</td>\n",
       "      <td>14</td>\n",
       "      <td>2</td>\n",
       "      <td>1.686</td>\n",
       "    </tr>\n",
       "    <tr>\n",
       "      <th>14</th>\n",
       "      <td>6</td>\n",
       "      <td>67</td>\n",
       "      <td>200</td>\n",
       "      <td>15</td>\n",
       "      <td>0</td>\n",
       "      <td>0.495</td>\n",
       "    </tr>\n",
       "    <tr>\n",
       "      <th>15</th>\n",
       "      <td>6</td>\n",
       "      <td>75</td>\n",
       "      <td>200</td>\n",
       "      <td>16</td>\n",
       "      <td>0</td>\n",
       "      <td>0.247</td>\n",
       "    </tr>\n",
       "    <tr>\n",
       "      <th>16</th>\n",
       "      <td>6</td>\n",
       "      <td>70</td>\n",
       "      <td>200</td>\n",
       "      <td>17</td>\n",
       "      <td>0</td>\n",
       "      <td>0.389</td>\n",
       "    </tr>\n",
       "    <tr>\n",
       "      <th>17</th>\n",
       "      <td>6</td>\n",
       "      <td>81</td>\n",
       "      <td>200</td>\n",
       "      <td>18</td>\n",
       "      <td>0</td>\n",
       "      <td>0.149</td>\n",
       "    </tr>\n",
       "    <tr>\n",
       "      <th>18</th>\n",
       "      <td>6</td>\n",
       "      <td>76</td>\n",
       "      <td>200</td>\n",
       "      <td>19</td>\n",
       "      <td>0</td>\n",
       "      <td>0.234</td>\n",
       "    </tr>\n",
       "    <tr>\n",
       "      <th>19</th>\n",
       "      <td>6</td>\n",
       "      <td>79</td>\n",
       "      <td>200</td>\n",
       "      <td>20</td>\n",
       "      <td>0</td>\n",
       "      <td>0.182</td>\n",
       "    </tr>\n",
       "    <tr>\n",
       "      <th>20</th>\n",
       "      <td>6</td>\n",
       "      <td>75</td>\n",
       "      <td>200</td>\n",
       "      <td>21</td>\n",
       "      <td>2</td>\n",
       "      <td>0.262</td>\n",
       "    </tr>\n",
       "    <tr>\n",
       "      <th>21</th>\n",
       "      <td>6</td>\n",
       "      <td>76</td>\n",
       "      <td>200</td>\n",
       "      <td>22</td>\n",
       "      <td>0</td>\n",
       "      <td>0.242</td>\n",
       "    </tr>\n",
       "    <tr>\n",
       "      <th>22</th>\n",
       "      <td>6</td>\n",
       "      <td>58</td>\n",
       "      <td>200</td>\n",
       "      <td>23</td>\n",
       "      <td>1</td>\n",
       "      <td>1.202</td>\n",
       "    </tr>\n",
       "  </tbody>\n",
       "</table>\n",
       "</div>"
      ],
      "text/plain": [
       "    num_rings  temperature  pressure  order  num_distress  predict_result\n",
       "0           6           66        50      1             0           0.161\n",
       "1           6           70        50      2             1           0.114\n",
       "2           6           69        50      3             0           0.126\n",
       "3           6           68        50      4             0           0.140\n",
       "4           6           67        50      5             0           0.154\n",
       "5           6           72        50      6             0           0.100\n",
       "6           6           73       100      7             0           0.132\n",
       "7           6           70       100      8             0           0.174\n",
       "8           6           57       200      9             1           1.118\n",
       "9           6           63       200     10             1           0.666\n",
       "10          6           70       200     11             1           0.363\n",
       "11          6           78       200     12             0           0.181\n",
       "12          6           67       200     13             0           0.484\n",
       "13          6           53       200     14             2           1.686\n",
       "14          6           67       200     15             0           0.495\n",
       "15          6           75       200     16             0           0.247\n",
       "16          6           70       200     17             0           0.389\n",
       "17          6           81       200     18             0           0.149\n",
       "18          6           76       200     19             0           0.234\n",
       "19          6           79       200     20             0           0.182\n",
       "20          6           75       200     21             2           0.262\n",
       "21          6           76       200     22             0           0.242\n",
       "22          6           58       200     23             1           1.202"
      ]
     },
     "execution_count": 16,
     "metadata": {},
     "output_type": "execute_result"
    }
   ],
   "source": [
    "df_erosion"
   ]
  },
  {
   "cell_type": "code",
   "execution_count": 17,
   "id": "d65ab1ba7240e2b",
   "metadata": {
    "ExecuteTime": {
     "end_time": "2025-05-01T10:04:47.318223Z",
     "start_time": "2025-05-01T10:04:47.212839Z"
    }
   },
   "outputs": [
    {
     "data": {
      "image/png": "[encoded data removed]",
      "text/plain": [
       "<Figure size 640x480 with 1 Axes>"
      ]
     },
     "metadata": {},
     "output_type": "display_data"
    }
   ],
   "source": [
    "from scipy.stats import poisson\n",
    "plt.rcParams['font.family']=\"Microsoft YaHei\"\n",
    "plt.hist(df_erosion['num_distress'], \n",
    "        bins=np.arange(df_erosion['num_distress'].max()+2)-0.5,\n",
    "        density=True,\n",
    "        facecolor=\"blue\", edgecolor=\"black\", alpha=0.7)\n",
    "x = np.arange(0, df_erosion['num_distress'].max()+1) \n",
    "plt.plot(x, poisson.pmf(x, mu=0.8125), 'r-', label='Poisson Fit') \n",
    "\n",
    "plt.legend()\n",
    "plt.show()\n"
   ]
  },
  {
   "cell_type": "code",
   "execution_count": 18,
   "id": "5e261ade1d7f45c5",
   "metadata": {
    "ExecuteTime": {
     "end_time": "2025-05-01T09:09:36.213615Z",
     "start_time": "2025-05-01T09:09:36.046270Z"
    }
   },
   "outputs": [
    {
     "name": "stdout",
     "output_type": "stream",
     "text": [
      "RMSE: 0.4895481057323038\n"
     ]
    }
   ],
   "source": [
    "from sklearn.metrics import mean_squared_error\n",
    "print(\"RMSE:\",np.sqrt(mean_squared_error(df_erosion.predict_result,df_erosion.num_distress)))"
   ]
  },
  {
   "cell_type": "code",
   "execution_count": null,
   "id": "ae990a0d638ed876",
   "metadata": {},
   "outputs": [],
   "source": []
  }
 ],
 "metadata": {
  "kernelspec": {
   "display_name": "Python 3 (ipykernel)",
   "language": "python",
   "name": "python3"
  },
  "language_info": {
   "codemirror_mode": {
    "name": "ipython",
    "version": 3
   },
   "file_extension": ".py",
   "mimetype": "text/x-python",
   "name": "python",
   "nbconvert_exporter": "python",
   "pygments_lexer": "ipython3",
   "version": "3.12.9"
  }
 },
 "nbformat": 4,
 "nbformat_minor": 5
}
