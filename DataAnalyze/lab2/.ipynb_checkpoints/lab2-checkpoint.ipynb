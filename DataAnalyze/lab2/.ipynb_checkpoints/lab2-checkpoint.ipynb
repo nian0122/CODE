{
 "cells": [
  {
   "cell_type": "code",
   "id": "initial_id",
   "metadata": {
    "collapsed": true,
    "ExecuteTime": {
     "end_time": "2025-04-23T07:18:10.206649Z",
     "start_time": "2025-04-23T07:18:10.189631Z"
    }
   },
   "source": [
    "import pandas as pd\n",
    "import numpy as np\n",
    "\n",
    "# 读取CSV文件\n",
    "df_women = pd.read_csv('women.csv', index_col=0, header=0)  # 设置索引列和标题行\n",
    "\n",
    "# 查看最后3行数据\n",
    "df_women.tail(3)\n",
    "\n",
    "# 查看整个数据框\n",
    "df_women\n"
   ],
   "outputs": [
    {
     "data": {
      "text/plain": [
       "    height  weight\n",
       "1       58     115\n",
       "2       59     117\n",
       "3       60     120\n",
       "4       61     123\n",
       "5       62     126\n",
       "6       63     129\n",
       "7       64     132\n",
       "8       65     135\n",
       "9       66     139\n",
       "10      67     142\n",
       "11      68     146\n",
       "12      69     150\n",
       "13      70     154\n",
       "14      71     159\n",
       "15      72     164"
      ],
      "text/html": [
       "<div>\n",
       "<style scoped>\n",
       "    .dataframe tbody tr th:only-of-type {\n",
       "        vertical-align: middle;\n",
       "    }\n",
       "\n",
       "    .dataframe tbody tr th {\n",
       "        vertical-align: top;\n",
       "    }\n",
       "\n",
       "    .dataframe thead th {\n",
       "        text-align: right;\n",
       "    }\n",
       "</style>\n",
       "<table border=\"1\" class=\"dataframe\">\n",
       "  <thead>\n",
       "    <tr style=\"text-align: right;\">\n",
       "      <th></th>\n",
       "      <th>height</th>\n",
       "      <th>weight</th>\n",
       "    </tr>\n",
       "  </thead>\n",
       "  <tbody>\n",
       "    <tr>\n",
       "      <th>1</th>\n",
       "      <td>58</td>\n",
       "      <td>115</td>\n",
       "    </tr>\n",
       "    <tr>\n",
       "      <th>2</th>\n",
       "      <td>59</td>\n",
       "      <td>117</td>\n",
       "    </tr>\n",
       "    <tr>\n",
       "      <th>3</th>\n",
       "      <td>60</td>\n",
       "      <td>120</td>\n",
       "    </tr>\n",
       "    <tr>\n",
       "      <th>4</th>\n",
       "      <td>61</td>\n",
       "      <td>123</td>\n",
       "    </tr>\n",
       "    <tr>\n",
       "      <th>5</th>\n",
       "      <td>62</td>\n",
       "      <td>126</td>\n",
       "    </tr>\n",
       "    <tr>\n",
       "      <th>6</th>\n",
       "      <td>63</td>\n",
       "      <td>129</td>\n",
       "    </tr>\n",
       "    <tr>\n",
       "      <th>7</th>\n",
       "      <td>64</td>\n",
       "      <td>132</td>\n",
       "    </tr>\n",
       "    <tr>\n",
       "      <th>8</th>\n",
       "      <td>65</td>\n",
       "      <td>135</td>\n",
       "    </tr>\n",
       "    <tr>\n",
       "      <th>9</th>\n",
       "      <td>66</td>\n",
       "      <td>139</td>\n",
       "    </tr>\n",
       "    <tr>\n",
       "      <th>10</th>\n",
       "      <td>67</td>\n",
       "      <td>142</td>\n",
       "    </tr>\n",
       "    <tr>\n",
       "      <th>11</th>\n",
       "      <td>68</td>\n",
       "      <td>146</td>\n",
       "    </tr>\n",
       "    <tr>\n",
       "      <th>12</th>\n",
       "      <td>69</td>\n",
       "      <td>150</td>\n",
       "    </tr>\n",
       "    <tr>\n",
       "      <th>13</th>\n",
       "      <td>70</td>\n",
       "      <td>154</td>\n",
       "    </tr>\n",
       "    <tr>\n",
       "      <th>14</th>\n",
       "      <td>71</td>\n",
       "      <td>159</td>\n",
       "    </tr>\n",
       "    <tr>\n",
       "      <th>15</th>\n",
       "      <td>72</td>\n",
       "      <td>164</td>\n",
       "    </tr>\n",
       "  </tbody>\n",
       "</table>\n",
       "</div>"
      ]
     },
     "execution_count": 49,
     "metadata": {},
     "output_type": "execute_result"
    }
   ],
   "execution_count": 49
  },
  {
   "metadata": {
    "ExecuteTime": {
     "end_time": "2025-04-23T07:18:10.228430Z",
     "start_time": "2025-04-23T07:18:10.222662Z"
    }
   },
   "cell_type": "code",
   "source": [
    "# 查看数据框的形状（行数和列数）\n",
    "df_women.shape  "
   ],
   "id": "5cc16c5ad90875db",
   "outputs": [
    {
     "data": {
      "text/plain": [
       "(15, 2)"
      ]
     },
     "execution_count": 50,
     "metadata": {},
     "output_type": "execute_result"
    }
   ],
   "execution_count": 50
  },
  {
   "metadata": {
    "ExecuteTime": {
     "end_time": "2025-04-23T07:18:10.311723Z",
     "start_time": "2025-04-23T07:18:10.300368Z"
    }
   },
   "cell_type": "code",
   "source": [
    "#查看数据框的列名\n",
    "df_women.columns  "
   ],
   "id": "f2f60b32a9820470",
   "outputs": [
    {
     "data": {
      "text/plain": [
       "Index(['height', 'weight'], dtype='object')"
      ]
     },
     "execution_count": 51,
     "metadata": {},
     "output_type": "execute_result"
    }
   ],
   "execution_count": 51
  },
  {
   "metadata": {
    "ExecuteTime": {
     "end_time": "2025-04-23T07:18:10.349557Z",
     "start_time": "2025-04-23T07:18:10.336228Z"
    }
   },
   "cell_type": "code",
   "source": [
    "# 查看数据框的描述性统计信息\n",
    "df_women.describe()  # 输出描述性统计信息"
   ],
   "id": "5364dd8e4cfedb8b",
   "outputs": [
    {
     "data": {
      "text/plain": [
       "          height      weight\n",
       "count  15.000000   15.000000\n",
       "mean   65.000000  136.733333\n",
       "std     4.472136   15.498694\n",
       "min    58.000000  115.000000\n",
       "25%    61.500000  124.500000\n",
       "50%    65.000000  135.000000\n",
       "75%    68.500000  148.000000\n",
       "max    72.000000  164.000000"
      ],
      "text/html": [
       "<div>\n",
       "<style scoped>\n",
       "    .dataframe tbody tr th:only-of-type {\n",
       "        vertical-align: middle;\n",
       "    }\n",
       "\n",
       "    .dataframe tbody tr th {\n",
       "        vertical-align: top;\n",
       "    }\n",
       "\n",
       "    .dataframe thead th {\n",
       "        text-align: right;\n",
       "    }\n",
       "</style>\n",
       "<table border=\"1\" class=\"dataframe\">\n",
       "  <thead>\n",
       "    <tr style=\"text-align: right;\">\n",
       "      <th></th>\n",
       "      <th>height</th>\n",
       "      <th>weight</th>\n",
       "    </tr>\n",
       "  </thead>\n",
       "  <tbody>\n",
       "    <tr>\n",
       "      <th>count</th>\n",
       "      <td>15.000000</td>\n",
       "      <td>15.000000</td>\n",
       "    </tr>\n",
       "    <tr>\n",
       "      <th>mean</th>\n",
       "      <td>65.000000</td>\n",
       "      <td>136.733333</td>\n",
       "    </tr>\n",
       "    <tr>\n",
       "      <th>std</th>\n",
       "      <td>4.472136</td>\n",
       "      <td>15.498694</td>\n",
       "    </tr>\n",
       "    <tr>\n",
       "      <th>min</th>\n",
       "      <td>58.000000</td>\n",
       "      <td>115.000000</td>\n",
       "    </tr>\n",
       "    <tr>\n",
       "      <th>25%</th>\n",
       "      <td>61.500000</td>\n",
       "      <td>124.500000</td>\n",
       "    </tr>\n",
       "    <tr>\n",
       "      <th>50%</th>\n",
       "      <td>65.000000</td>\n",
       "      <td>135.000000</td>\n",
       "    </tr>\n",
       "    <tr>\n",
       "      <th>75%</th>\n",
       "      <td>68.500000</td>\n",
       "      <td>148.000000</td>\n",
       "    </tr>\n",
       "    <tr>\n",
       "      <th>max</th>\n",
       "      <td>72.000000</td>\n",
       "      <td>164.000000</td>\n",
       "    </tr>\n",
       "  </tbody>\n",
       "</table>\n",
       "</div>"
      ]
     },
     "execution_count": 52,
     "metadata": {},
     "output_type": "execute_result"
    }
   ],
   "execution_count": 52
  },
  {
   "metadata": {
    "ExecuteTime": {
     "end_time": "2025-04-23T07:18:10.507499Z",
     "start_time": "2025-04-23T07:18:10.417053Z"
    }
   },
   "cell_type": "code",
   "source": [
    "import matplotlib.pyplot as plt  # 导入绘图库\n",
    "# 创建散点图\n",
    "plt.scatter(df_women[\"height\"], df_women[\"weight\"])  # 散点图\n",
    "# 设置 x 轴标签\n",
    "plt.xlabel(\"height\")  # x 轴标签\n",
    "# 设置 y 轴标签\n",
    "plt.ylabel(\"weight\")  # y 轴标签\n",
    "# 显示图形\n",
    "plt.show()"
   ],
   "id": "f8147da1ebe5b66e",
   "outputs": [
    {
     "data": {
      "text/plain": [
       "<Figure size 640x480 with 1 Axes>"
      ],
      "image/png": "[encoded data removed]"
     },
     "metadata": {},
     "output_type": "display_data"
    }
   ],
   "execution_count": 53
  },
  {
   "metadata": {
    "ExecuteTime": {
     "end_time": "2025-04-23T07:18:10.512709Z",
     "start_time": "2025-04-23T07:18:10.509068Z"
    }
   },
   "cell_type": "code",
   "source": [
    "x = df_women[['height']]  # 提取 DataFrame 中的 \"height\" 列，结果为 DataFrame 类型\n",
    "y = df_women['weight']    # 提取 DataFrame 中的 \"weight\" 列，结果为 Series 类型"
   ],
   "id": "ecdd2e54ef4a61aa",
   "outputs": [],
   "execution_count": 54
  },
  {
   "metadata": {
    "ExecuteTime": {
     "end_time": "2025-04-23T07:18:10.521797Z",
     "start_time": "2025-04-23T07:18:10.514064Z"
    }
   },
   "cell_type": "code",
   "source": "type(x)  # 输出 pandas.core.frame.DataFrame，表示 X 是一个 DataFrame",
   "id": "46889542a1f194e9",
   "outputs": [
    {
     "data": {
      "text/plain": [
       "pandas.core.frame.DataFrame"
      ]
     },
     "execution_count": 55,
     "metadata": {},
     "output_type": "execute_result"
    }
   ],
   "execution_count": 55
  },
  {
   "metadata": {
    "ExecuteTime": {
     "end_time": "2025-04-23T07:18:10.528415Z",
     "start_time": "2025-04-23T07:18:10.524358Z"
    }
   },
   "cell_type": "code",
   "source": "y=np.ravel(y)",
   "id": "fa1ca0613ba4f373",
   "outputs": [],
   "execution_count": 56
  },
  {
   "metadata": {
    "ExecuteTime": {
     "end_time": "2025-04-23T07:18:10.545548Z",
     "start_time": "2025-04-23T07:18:10.536684Z"
    }
   },
   "cell_type": "code",
   "source": [
    "import numpy as np\n",
    "# 创建一个二维数组\n",
    "a = np.array([[1, 2, 3], [4, 5, 6]])\n",
    "# 使用 np.ravel() 将二维数组转换为一维数组\n",
    "b = a.ravel()\n",
    "print(b)  # 输出 [1 2 3 4 5 6]"
   ],
   "id": "5630a22776365b86",
   "outputs": [
    {
     "name": "stdout",
     "output_type": "stream",
     "text": [
      "[1 2 3 4 5 6]\n"
     ]
    }
   ],
   "execution_count": 57
  },
  {
   "metadata": {
    "ExecuteTime": {
     "end_time": "2025-04-23T07:18:10.657821Z",
     "start_time": "2025-04-23T07:18:10.654324Z"
    }
   },
   "cell_type": "code",
   "source": "import statsmodels.api as sm",
   "id": "f74e437ff0711b55",
   "outputs": [],
   "execution_count": 58
  },
  {
   "metadata": {
    "ExecuteTime": {
     "end_time": "2025-04-23T07:18:10.690416Z",
     "start_time": "2025-04-23T07:18:10.683787Z"
    }
   },
   "cell_type": "code",
   "source": "x",
   "id": "15eb65b2ee6b4a41",
   "outputs": [
    {
     "data": {
      "text/plain": [
       "    height\n",
       "1       58\n",
       "2       59\n",
       "3       60\n",
       "4       61\n",
       "5       62\n",
       "6       63\n",
       "7       64\n",
       "8       65\n",
       "9       66\n",
       "10      67\n",
       "11      68\n",
       "12      69\n",
       "13      70\n",
       "14      71\n",
       "15      72"
      ],
      "text/html": [
       "<div>\n",
       "<style scoped>\n",
       "    .dataframe tbody tr th:only-of-type {\n",
       "        vertical-align: middle;\n",
       "    }\n",
       "\n",
       "    .dataframe tbody tr th {\n",
       "        vertical-align: top;\n",
       "    }\n",
       "\n",
       "    .dataframe thead th {\n",
       "        text-align: right;\n",
       "    }\n",
       "</style>\n",
       "<table border=\"1\" class=\"dataframe\">\n",
       "  <thead>\n",
       "    <tr style=\"text-align: right;\">\n",
       "      <th></th>\n",
       "      <th>height</th>\n",
       "    </tr>\n",
       "  </thead>\n",
       "  <tbody>\n",
       "    <tr>\n",
       "      <th>1</th>\n",
       "      <td>58</td>\n",
       "    </tr>\n",
       "    <tr>\n",
       "      <th>2</th>\n",
       "      <td>59</td>\n",
       "    </tr>\n",
       "    <tr>\n",
       "      <th>3</th>\n",
       "      <td>60</td>\n",
       "    </tr>\n",
       "    <tr>\n",
       "      <th>4</th>\n",
       "      <td>61</td>\n",
       "    </tr>\n",
       "    <tr>\n",
       "      <th>5</th>\n",
       "      <td>62</td>\n",
       "    </tr>\n",
       "    <tr>\n",
       "      <th>6</th>\n",
       "      <td>63</td>\n",
       "    </tr>\n",
       "    <tr>\n",
       "      <th>7</th>\n",
       "      <td>64</td>\n",
       "    </tr>\n",
       "    <tr>\n",
       "      <th>8</th>\n",
       "      <td>65</td>\n",
       "    </tr>\n",
       "    <tr>\n",
       "      <th>9</th>\n",
       "      <td>66</td>\n",
       "    </tr>\n",
       "    <tr>\n",
       "      <th>10</th>\n",
       "      <td>67</td>\n",
       "    </tr>\n",
       "    <tr>\n",
       "      <th>11</th>\n",
       "      <td>68</td>\n",
       "    </tr>\n",
       "    <tr>\n",
       "      <th>12</th>\n",
       "      <td>69</td>\n",
       "    </tr>\n",
       "    <tr>\n",
       "      <th>13</th>\n",
       "      <td>70</td>\n",
       "    </tr>\n",
       "    <tr>\n",
       "      <th>14</th>\n",
       "      <td>71</td>\n",
       "    </tr>\n",
       "    <tr>\n",
       "      <th>15</th>\n",
       "      <td>72</td>\n",
       "    </tr>\n",
       "  </tbody>\n",
       "</table>\n",
       "</div>"
      ]
     },
     "execution_count": 59,
     "metadata": {},
     "output_type": "execute_result"
    }
   ],
   "execution_count": 59
  },
  {
   "metadata": {
    "ExecuteTime": {
     "end_time": "2025-04-23T07:18:10.724970Z",
     "start_time": "2025-04-23T07:18:10.712090Z"
    }
   },
   "cell_type": "code",
   "source": [
    "import statsmodels.api as sm\n",
    "x = sm.add_constant(x) # 使用 add_constant 函数在输入的特征矩阵中添加一个常数列（截距项）。\n",
    "x"
   ],
   "id": "812c06d019d4991d",
   "outputs": [
    {
     "data": {
      "text/plain": [
       "    const  height\n",
       "1     1.0      58\n",
       "2     1.0      59\n",
       "3     1.0      60\n",
       "4     1.0      61\n",
       "5     1.0      62\n",
       "6     1.0      63\n",
       "7     1.0      64\n",
       "8     1.0      65\n",
       "9     1.0      66\n",
       "10    1.0      67\n",
       "11    1.0      68\n",
       "12    1.0      69\n",
       "13    1.0      70\n",
       "14    1.0      71\n",
       "15    1.0      72"
      ],
      "text/html": [
       "<div>\n",
       "<style scoped>\n",
       "    .dataframe tbody tr th:only-of-type {\n",
       "        vertical-align: middle;\n",
       "    }\n",
       "\n",
       "    .dataframe tbody tr th {\n",
       "        vertical-align: top;\n",
       "    }\n",
       "\n",
       "    .dataframe thead th {\n",
       "        text-align: right;\n",
       "    }\n",
       "</style>\n",
       "<table border=\"1\" class=\"dataframe\">\n",
       "  <thead>\n",
       "    <tr style=\"text-align: right;\">\n",
       "      <th></th>\n",
       "      <th>const</th>\n",
       "      <th>height</th>\n",
       "    </tr>\n",
       "  </thead>\n",
       "  <tbody>\n",
       "    <tr>\n",
       "      <th>1</th>\n",
       "      <td>1.0</td>\n",
       "      <td>58</td>\n",
       "    </tr>\n",
       "    <tr>\n",
       "      <th>2</th>\n",
       "      <td>1.0</td>\n",
       "      <td>59</td>\n",
       "    </tr>\n",
       "    <tr>\n",
       "      <th>3</th>\n",
       "      <td>1.0</td>\n",
       "      <td>60</td>\n",
       "    </tr>\n",
       "    <tr>\n",
       "      <th>4</th>\n",
       "      <td>1.0</td>\n",
       "      <td>61</td>\n",
       "    </tr>\n",
       "    <tr>\n",
       "      <th>5</th>\n",
       "      <td>1.0</td>\n",
       "      <td>62</td>\n",
       "    </tr>\n",
       "    <tr>\n",
       "      <th>6</th>\n",
       "      <td>1.0</td>\n",
       "      <td>63</td>\n",
       "    </tr>\n",
       "    <tr>\n",
       "      <th>7</th>\n",
       "      <td>1.0</td>\n",
       "      <td>64</td>\n",
       "    </tr>\n",
       "    <tr>\n",
       "      <th>8</th>\n",
       "      <td>1.0</td>\n",
       "      <td>65</td>\n",
       "    </tr>\n",
       "    <tr>\n",
       "      <th>9</th>\n",
       "      <td>1.0</td>\n",
       "      <td>66</td>\n",
       "    </tr>\n",
       "    <tr>\n",
       "      <th>10</th>\n",
       "      <td>1.0</td>\n",
       "      <td>67</td>\n",
       "    </tr>\n",
       "    <tr>\n",
       "      <th>11</th>\n",
       "      <td>1.0</td>\n",
       "      <td>68</td>\n",
       "    </tr>\n",
       "    <tr>\n",
       "      <th>12</th>\n",
       "      <td>1.0</td>\n",
       "      <td>69</td>\n",
       "    </tr>\n",
       "    <tr>\n",
       "      <th>13</th>\n",
       "      <td>1.0</td>\n",
       "      <td>70</td>\n",
       "    </tr>\n",
       "    <tr>\n",
       "      <th>14</th>\n",
       "      <td>1.0</td>\n",
       "      <td>71</td>\n",
       "    </tr>\n",
       "    <tr>\n",
       "      <th>15</th>\n",
       "      <td>1.0</td>\n",
       "      <td>72</td>\n",
       "    </tr>\n",
       "  </tbody>\n",
       "</table>\n",
       "</div>"
      ]
     },
     "execution_count": 60,
     "metadata": {},
     "output_type": "execute_result"
    }
   ],
   "execution_count": 60
  },
  {
   "metadata": {
    "ExecuteTime": {
     "end_time": "2025-04-23T07:18:10.749534Z",
     "start_time": "2025-04-23T07:18:10.744683Z"
    }
   },
   "cell_type": "code",
   "source": "myModel = sm.OLS(y,x)",
   "id": "b0f2aa9f4f1dee7d",
   "outputs": [],
   "execution_count": 61
  },
  {
   "metadata": {
    "ExecuteTime": {
     "end_time": "2025-04-23T07:18:10.786382Z",
     "start_time": "2025-04-23T07:18:10.776239Z"
    }
   },
   "cell_type": "code",
   "source": [
    "results = myModel.fit()\n",
    "print(results.summary())"
   ],
   "id": "ede4f6a00b8d7700",
   "outputs": [
    {
     "name": "stdout",
     "output_type": "stream",
     "text": [
      "                            OLS Regression Results                            \n",
      "==============================================================================\n",
      "Dep. Variable:                      y   R-squared:                       0.991\n",
      "Model:                            OLS   Adj. R-squared:                  0.990\n",
      "Method:                 Least Squares   F-statistic:                     1433.\n",
      "Date:                Wed, 23 Apr 2025   Prob (F-statistic):           1.09e-14\n",
      "Time:                        15:18:10   Log-Likelihood:                -26.541\n",
      "No. Observations:                  15   AIC:                             57.08\n",
      "Df Residuals:                      13   BIC:                             58.50\n",
      "Df Model:                           1                                         \n",
      "Covariance Type:            nonrobust                                         \n",
      "==============================================================================\n",
      "                 coef    std err          t      P>|t|      [0.025      0.975]\n",
      "------------------------------------------------------------------------------\n",
      "const        -87.5167      5.937    -14.741      0.000    -100.343     -74.691\n",
      "height         3.4500      0.091     37.855      0.000       3.253       3.647\n",
      "==============================================================================\n",
      "Omnibus:                        2.396   Durbin-Watson:                   0.315\n",
      "Prob(Omnibus):                  0.302   Jarque-Bera (JB):                1.660\n",
      "Skew:                           0.789   Prob(JB):                        0.436\n",
      "Kurtosis:                       2.596   Cond. No.                         982.\n",
      "==============================================================================\n",
      "\n",
      "Notes:\n",
      "[1] Standard Errors assume that the covariance matrix of the errors is correctly specified.\n"
     ]
    },
    {
     "name": "stderr",
     "output_type": "stream",
     "text": [
      "E:\\Software\\anaconda3\\envs\\python312\\Lib\\site-packages\\scipy\\stats\\_axis_nan_policy.py:430: UserWarning: `kurtosistest` p-value may be inaccurate with fewer than 20 observations; only n=15 observations were given.\n",
      "  return hypotest_fun_in(*args, **kwds)\n"
     ]
    }
   ],
   "execution_count": 62
  },
  {
   "metadata": {
    "ExecuteTime": {
     "end_time": "2025-04-23T07:18:10.859307Z",
     "start_time": "2025-04-23T07:18:10.852884Z"
    }
   },
   "cell_type": "code",
   "source": "results.params",
   "id": "1fe5d1b87337927a",
   "outputs": [
    {
     "data": {
      "text/plain": [
       "const    -87.516667\n",
       "height     3.450000\n",
       "dtype: float64"
      ]
     },
     "execution_count": 63,
     "metadata": {},
     "output_type": "execute_result"
    }
   ],
   "execution_count": 63
  },
  {
   "metadata": {
    "ExecuteTime": {
     "end_time": "2025-04-23T07:18:10.929437Z",
     "start_time": "2025-04-23T07:18:10.912275Z"
    }
   },
   "cell_type": "code",
   "source": "results.rsquared",
   "id": "840316b7ad19df2d",
   "outputs": [
    {
     "data": {
      "text/plain": [
       "np.float64(0.9910098326857505)"
      ]
     },
     "execution_count": 64,
     "metadata": {},
     "output_type": "execute_result"
    }
   ],
   "execution_count": 64
  },
  {
   "metadata": {
    "ExecuteTime": {
     "end_time": "2025-04-23T07:18:10.962289Z",
     "start_time": "2025-04-23T07:18:10.954287Z"
    }
   },
   "cell_type": "code",
   "source": "results.f_pvalue",
   "id": "6df2c8f9379a62be",
   "outputs": [
    {
     "data": {
      "text/plain": [
       "np.float64(1.090972958599788e-14)"
      ]
     },
     "execution_count": 65,
     "metadata": {},
     "output_type": "execute_result"
    }
   ],
   "execution_count": 65
  },
  {
   "metadata": {
    "ExecuteTime": {
     "end_time": "2025-04-23T07:18:11.010277Z",
     "start_time": "2025-04-23T07:18:11.005586Z"
    }
   },
   "cell_type": "code",
   "source": "sm.stats.stattools.durbin_watson(results.resid)",
   "id": "492b561d04267d52",
   "outputs": [
    {
     "data": {
      "text/plain": [
       "np.float64(0.3153803748621822)"
      ]
     },
     "execution_count": 66,
     "metadata": {},
     "output_type": "execute_result"
    }
   ],
   "execution_count": 66
  },
  {
   "metadata": {
    "ExecuteTime": {
     "end_time": "2025-04-23T07:18:11.038204Z",
     "start_time": "2025-04-23T07:18:11.031823Z"
    }
   },
   "cell_type": "code",
   "source": "sm.stats.stattools.jarque_bera(results.resid)",
   "id": "851666105ee115ad",
   "outputs": [
    {
     "data": {
      "text/plain": [
       "(np.float64(1.659573064430949),\n",
       " np.float64(0.43614237873239226),\n",
       " np.float64(0.7893583826332149),\n",
       " np.float64(2.5963042257389626))"
      ]
     },
     "execution_count": 67,
     "metadata": {},
     "output_type": "execute_result"
    }
   ],
   "execution_count": 67
  },
  {
   "metadata": {
    "ExecuteTime": {
     "end_time": "2025-04-23T07:18:11.091084Z",
     "start_time": "2025-04-23T07:18:11.086854Z"
    }
   },
   "cell_type": "code",
   "source": [
    "y_predict = results.predict()\n",
    "y_predict"
   ],
   "id": "22ead2a9fb0dd1f3",
   "outputs": [
    {
     "data": {
      "text/plain": [
       "array([112.58333333, 116.03333333, 119.48333333, 122.93333333,\n",
       "       126.38333333, 129.83333333, 133.28333333, 136.73333333,\n",
       "       140.18333333, 143.63333333, 147.08333333, 150.53333333,\n",
       "       153.98333333, 157.43333333, 160.88333333])"
      ]
     },
     "execution_count": 68,
     "metadata": {},
     "output_type": "execute_result"
    }
   ],
   "execution_count": 68
  },
  {
   "metadata": {
    "ExecuteTime": {
     "end_time": "2025-04-23T07:18:11.432791Z",
     "start_time": "2025-04-23T07:18:11.110701Z"
    }
   },
   "cell_type": "code",
   "source": [
    "# plt.rcParams[\"font.family\"] = \"Arial Unicode MS\"  # 注释：#号代表注释内容\n",
    "plt.rcParams[\"font.family\"] = \"simHei\"  # 设置字体为黑体以便显示中文\n",
    "\n",
    "plt.plot(df_women[\"height\"], df_women[\"weight\"], \"o\")  # 绘制散点图\n",
    "plt.plot(df_women[\"height\"], y_predict, \"-\")  # 绘制线性回归拟合线\n",
    "\n",
    "plt.title('女性体重与身高的线性回归分析')  # 图表标题\n",
    "plt.xlabel('身高')  # x 轴标签\n",
    "plt.ylabel('体重')  # y 轴标签\n"
   ],
   "id": "93bb3bfcee12d01f",
   "outputs": [
    {
     "data": {
      "text/plain": [
       "Text(0, 0.5, '体重')"
      ]
     },
     "execution_count": 69,
     "metadata": {},
     "output_type": "execute_result"
    },
    {
     "data": {
      "text/plain": [
       "<Figure size 640x480 with 1 Axes>"
      ],
      "image/png": "[encoded data removed]"
     },
     "metadata": {},
     "output_type": "display_data"
    }
   ],
   "execution_count": 69
  },
  {
   "metadata": {
    "ExecuteTime": {
     "end_time": "2025-04-23T07:18:11.437262Z",
     "start_time": "2025-04-23T07:18:11.432791Z"
    }
   },
   "cell_type": "code",
   "source": [
    "import pandas as pd\n",
    "import numpy as np"
   ],
   "id": "679af04666c097ef",
   "outputs": [],
   "execution_count": 70
  },
  {
   "metadata": {
    "ExecuteTime": {
     "end_time": "2025-04-23T07:18:11.448088Z",
     "start_time": "2025-04-23T07:18:11.437262Z"
    }
   },
   "cell_type": "code",
   "source": [
    "X = df_women[[\"height\"]]\n",
    "y = df_women[\"weight\"]\n",
    "\n",
    "# column_stack 是一个用于将一维或二维数组沿列方向堆叠的实用工具函数\n",
    "X = np.column_stack((X, np.power(X, 2), np.power(X, 3)))\n",
    "X\n"
   ],
   "id": "f54fb08c6f4cbaee",
   "outputs": [
    {
     "data": {
      "text/plain": [
       "array([[    58,   3364, 195112],\n",
       "       [    59,   3481, 205379],\n",
       "       [    60,   3600, 216000],\n",
       "       [    61,   3721, 226981],\n",
       "       [    62,   3844, 238328],\n",
       "       [    63,   3969, 250047],\n",
       "       [    64,   4096, 262144],\n",
       "       [    65,   4225, 274625],\n",
       "       [    66,   4356, 287496],\n",
       "       [    67,   4489, 300763],\n",
       "       [    68,   4624, 314432],\n",
       "       [    69,   4761, 328509],\n",
       "       [    70,   4900, 343000],\n",
       "       [    71,   5041, 357911],\n",
       "       [    72,   5184, 373248]])"
      ]
     },
     "execution_count": 71,
     "metadata": {},
     "output_type": "execute_result"
    }
   ],
   "execution_count": 71
  },
  {
   "metadata": {
    "ExecuteTime": {
     "end_time": "2025-04-23T07:18:11.454609Z",
     "start_time": "2025-04-23T07:18:11.449627Z"
    }
   },
   "cell_type": "code",
   "source": [
    "# 例如\n",
    "import numpy as np\n",
    "tup = (np.array([1, 2]), np.array([4, 5]))\n",
    "result = np.column_stack(tup)\n",
    "print(result)\n"
   ],
   "id": "f193de3491f2e8d1",
   "outputs": [
    {
     "name": "stdout",
     "output_type": "stream",
     "text": [
      "[[1 4]\n",
      " [2 5]]\n"
     ]
    }
   ],
   "execution_count": 72
  },
  {
   "metadata": {
    "ExecuteTime": {
     "end_time": "2025-04-23T07:18:11.462852Z",
     "start_time": "2025-04-23T07:18:11.454609Z"
    }
   },
   "cell_type": "code",
   "source": [
    "# 左边增加一列常数 1.0\n",
    "X_add_const = sm.add_constant(X)\n",
    "\n",
    "X_add_const\n"
   ],
   "id": "9fc911f9013e7374",
   "outputs": [
    {
     "data": {
      "text/plain": [
       "array([[1.00000e+00, 5.80000e+01, 3.36400e+03, 1.95112e+05],\n",
       "       [1.00000e+00, 5.90000e+01, 3.48100e+03, 2.05379e+05],\n",
       "       [1.00000e+00, 6.00000e+01, 3.60000e+03, 2.16000e+05],\n",
       "       [1.00000e+00, 6.10000e+01, 3.72100e+03, 2.26981e+05],\n",
       "       [1.00000e+00, 6.20000e+01, 3.84400e+03, 2.38328e+05],\n",
       "       [1.00000e+00, 6.30000e+01, 3.96900e+03, 2.50047e+05],\n",
       "       [1.00000e+00, 6.40000e+01, 4.09600e+03, 2.62144e+05],\n",
       "       [1.00000e+00, 6.50000e+01, 4.22500e+03, 2.74625e+05],\n",
       "       [1.00000e+00, 6.60000e+01, 4.35600e+03, 2.87496e+05],\n",
       "       [1.00000e+00, 6.70000e+01, 4.48900e+03, 3.00763e+05],\n",
       "       [1.00000e+00, 6.80000e+01, 4.62400e+03, 3.14432e+05],\n",
       "       [1.00000e+00, 6.90000e+01, 4.76100e+03, 3.28509e+05],\n",
       "       [1.00000e+00, 7.00000e+01, 4.90000e+03, 3.43000e+05],\n",
       "       [1.00000e+00, 7.10000e+01, 5.04100e+03, 3.57911e+05],\n",
       "       [1.00000e+00, 7.20000e+01, 5.18400e+03, 3.73248e+05]])"
      ]
     },
     "execution_count": 73,
     "metadata": {},
     "output_type": "execute_result"
    }
   ],
   "execution_count": 73
  },
  {
   "metadata": {
    "ExecuteTime": {
     "end_time": "2025-04-23T07:18:11.468474Z",
     "start_time": "2025-04-23T07:18:11.462852Z"
    }
   },
   "cell_type": "code",
   "source": [
    "# 最小二乘法\n",
    "myModel_updated = sm.OLS(y, X_add_const)\n"
   ],
   "id": "bcbedff007178ddf",
   "outputs": [],
   "execution_count": 74
  },
  {
   "metadata": {
    "ExecuteTime": {
     "end_time": "2025-04-23T07:18:11.475813Z",
     "start_time": "2025-04-23T07:18:11.468474Z"
    }
   },
   "cell_type": "code",
   "source": [
    "results_updated = myModel_updated.fit()\n",
    "print(results_updated)\n"
   ],
   "id": "d84b0fc18ac96e61",
   "outputs": [
    {
     "name": "stdout",
     "output_type": "stream",
     "text": [
      "<statsmodels.regression.linear_model.RegressionResultsWrapper object at 0x000001F8E44BA960>\n"
     ]
    }
   ],
   "execution_count": 75
  },
  {
   "metadata": {
    "ExecuteTime": {
     "end_time": "2025-04-23T07:18:11.496428Z",
     "start_time": "2025-04-23T07:18:11.475813Z"
    }
   },
   "cell_type": "code",
   "source": "results_updated.summary()",
   "id": "ebbcc5680949d271",
   "outputs": [
    {
     "name": "stderr",
     "output_type": "stream",
     "text": [
      "E:\\Software\\anaconda3\\envs\\python312\\Lib\\site-packages\\scipy\\stats\\_axis_nan_policy.py:430: UserWarning: `kurtosistest` p-value may be inaccurate with fewer than 20 observations; only n=15 observations were given.\n",
      "  return hypotest_fun_in(*args, **kwds)\n"
     ]
    },
    {
     "data": {
      "text/plain": [
       "<class 'statsmodels.iolib.summary.Summary'>\n",
       "\"\"\"\n",
       "                            OLS Regression Results                            \n",
       "==============================================================================\n",
       "Dep. Variable:                 weight   R-squared:                       1.000\n",
       "Model:                            OLS   Adj. R-squared:                  1.000\n",
       "Method:                 Least Squares   F-statistic:                 1.679e+04\n",
       "Date:                Wed, 23 Apr 2025   Prob (F-statistic):           2.07e-20\n",
       "Time:                        15:18:11   Log-Likelihood:                 1.3441\n",
       "No. Observations:                  15   AIC:                             5.312\n",
       "Df Residuals:                      11   BIC:                             8.144\n",
       "Df Model:                           3                                         \n",
       "Covariance Type:            nonrobust                                         \n",
       "==============================================================================\n",
       "                 coef    std err          t      P>|t|      [0.025      0.975]\n",
       "------------------------------------------------------------------------------\n",
       "const       -896.7476    294.575     -3.044      0.011   -1545.102    -248.393\n",
       "x1            46.4108     13.655      3.399      0.006      16.356      76.466\n",
       "x2            -0.7462      0.211     -3.544      0.005      -1.210      -0.283\n",
       "x3             0.0043      0.001      3.940      0.002       0.002       0.007\n",
       "==============================================================================\n",
       "Omnibus:                        0.028   Durbin-Watson:                   2.388\n",
       "Prob(Omnibus):                  0.986   Jarque-Bera (JB):                0.127\n",
       "Skew:                           0.049   Prob(JB):                        0.939\n",
       "Kurtosis:                       2.561   Cond. No.                     1.25e+09\n",
       "==============================================================================\n",
       "\n",
       "Notes:\n",
       "[1] Standard Errors assume that the covariance matrix of the errors is correctly specified.\n",
       "[2] The condition number is large, 1.25e+09. This might indicate that there are\n",
       "strong multicollinearity or other numerical problems.\n",
       "\"\"\""
      ],
      "text/html": [
       "<table class=\"simpletable\">\n",
       "<caption>OLS Regression Results</caption>\n",
       "<tr>\n",
       "  <th>Dep. Variable:</th>         <td>weight</td>      <th>  R-squared:         </th> <td>   1.000</td> \n",
       "</tr>\n",
       "<tr>\n",
       "  <th>Model:</th>                   <td>OLS</td>       <th>  Adj. R-squared:    </th> <td>   1.000</td> \n",
       "</tr>\n",
       "<tr>\n",
       "  <th>Method:</th>             <td>Least Squares</td>  <th>  F-statistic:       </th> <td>1.679e+04</td>\n",
       "</tr>\n",
       "<tr>\n",
       "  <th>Date:</th>             <td>Wed, 23 Apr 2025</td> <th>  Prob (F-statistic):</th> <td>2.07e-20</td> \n",
       "</tr>\n",
       "<tr>\n",
       "  <th>Time:</th>                 <td>15:18:11</td>     <th>  Log-Likelihood:    </th> <td>  1.3441</td> \n",
       "</tr>\n",
       "<tr>\n",
       "  <th>No. Observations:</th>      <td>    15</td>      <th>  AIC:               </th> <td>   5.312</td> \n",
       "</tr>\n",
       "<tr>\n",
       "  <th>Df Residuals:</th>          <td>    11</td>      <th>  BIC:               </th> <td>   8.144</td> \n",
       "</tr>\n",
       "<tr>\n",
       "  <th>Df Model:</th>              <td>     3</td>      <th>                     </th>     <td> </td>    \n",
       "</tr>\n",
       "<tr>\n",
       "  <th>Covariance Type:</th>      <td>nonrobust</td>    <th>                     </th>     <td> </td>    \n",
       "</tr>\n",
       "</table>\n",
       "<table class=\"simpletable\">\n",
       "<tr>\n",
       "    <td></td>       <th>coef</th>     <th>std err</th>      <th>t</th>      <th>P>|t|</th>  <th>[0.025</th>    <th>0.975]</th>  \n",
       "</tr>\n",
       "<tr>\n",
       "  <th>const</th> <td> -896.7476</td> <td>  294.575</td> <td>   -3.044</td> <td> 0.011</td> <td>-1545.102</td> <td> -248.393</td>\n",
       "</tr>\n",
       "<tr>\n",
       "  <th>x1</th>    <td>   46.4108</td> <td>   13.655</td> <td>    3.399</td> <td> 0.006</td> <td>   16.356</td> <td>   76.466</td>\n",
       "</tr>\n",
       "<tr>\n",
       "  <th>x2</th>    <td>   -0.7462</td> <td>    0.211</td> <td>   -3.544</td> <td> 0.005</td> <td>   -1.210</td> <td>   -0.283</td>\n",
       "</tr>\n",
       "<tr>\n",
       "  <th>x3</th>    <td>    0.0043</td> <td>    0.001</td> <td>    3.940</td> <td> 0.002</td> <td>    0.002</td> <td>    0.007</td>\n",
       "</tr>\n",
       "</table>\n",
       "<table class=\"simpletable\">\n",
       "<tr>\n",
       "  <th>Omnibus:</th>       <td> 0.028</td> <th>  Durbin-Watson:     </th> <td>   2.388</td>\n",
       "</tr>\n",
       "<tr>\n",
       "  <th>Prob(Omnibus):</th> <td> 0.986</td> <th>  Jarque-Bera (JB):  </th> <td>   0.127</td>\n",
       "</tr>\n",
       "<tr>\n",
       "  <th>Skew:</th>          <td> 0.049</td> <th>  Prob(JB):          </th> <td>   0.939</td>\n",
       "</tr>\n",
       "<tr>\n",
       "  <th>Kurtosis:</th>      <td> 2.561</td> <th>  Cond. No.          </th> <td>1.25e+09</td>\n",
       "</tr>\n",
       "</table><br/><br/>Notes:<br/>[1] Standard Errors assume that the covariance matrix of the errors is correctly specified.<br/>[2] The condition number is large, 1.25e+09. This might indicate that there are<br/>strong multicollinearity or other numerical problems."
      ],
      "text/latex": "\\begin{center}\n\\begin{tabular}{lclc}\n\\toprule\n\\textbf{Dep. Variable:}    &      weight      & \\textbf{  R-squared:         } &     1.000   \\\\\n\\textbf{Model:}            &       OLS        & \\textbf{  Adj. R-squared:    } &     1.000   \\\\\n\\textbf{Method:}           &  Least Squares   & \\textbf{  F-statistic:       } & 1.679e+04   \\\\\n\\textbf{Date:}             & Wed, 23 Apr 2025 & \\textbf{  Prob (F-statistic):} &  2.07e-20   \\\\\n\\textbf{Time:}             &     15:18:11     & \\textbf{  Log-Likelihood:    } &    1.3441   \\\\\n\\textbf{No. Observations:} &          15      & \\textbf{  AIC:               } &     5.312   \\\\\n\\textbf{Df Residuals:}     &          11      & \\textbf{  BIC:               } &     8.144   \\\\\n\\textbf{Df Model:}         &           3      & \\textbf{                     } &             \\\\\n\\textbf{Covariance Type:}  &    nonrobust     & \\textbf{                     } &             \\\\\n\\bottomrule\n\\end{tabular}\n\\begin{tabular}{lcccccc}\n               & \\textbf{coef} & \\textbf{std err} & \\textbf{t} & \\textbf{P$> |$t$|$} & \\textbf{[0.025} & \\textbf{0.975]}  \\\\\n\\midrule\n\\textbf{const} &    -896.7476  &      294.575     &    -3.044  &         0.011        &    -1545.102    &     -248.393     \\\\\n\\textbf{x1}    &      46.4108  &       13.655     &     3.399  &         0.006        &       16.356    &       76.466     \\\\\n\\textbf{x2}    &      -0.7462  &        0.211     &    -3.544  &         0.005        &       -1.210    &       -0.283     \\\\\n\\textbf{x3}    &       0.0043  &        0.001     &     3.940  &         0.002        &        0.002    &        0.007     \\\\\n\\bottomrule\n\\end{tabular}\n\\begin{tabular}{lclc}\n\\textbf{Omnibus:}       &  0.028 & \\textbf{  Durbin-Watson:     } &    2.388  \\\\\n\\textbf{Prob(Omnibus):} &  0.986 & \\textbf{  Jarque-Bera (JB):  } &    0.127  \\\\\n\\textbf{Skew:}          &  0.049 & \\textbf{  Prob(JB):          } &    0.939  \\\\\n\\textbf{Kurtosis:}      &  2.561 & \\textbf{  Cond. No.          } & 1.25e+09  \\\\\n\\bottomrule\n\\end{tabular}\n%\\caption{OLS Regression Results}\n\\end{center}\n\nNotes: \\newline\n [1] Standard Errors assume that the covariance matrix of the errors is correctly specified. \\newline\n [2] The condition number is large, 1.25e+09. This might indicate that there are \\newline\n strong multicollinearity or other numerical problems."
     },
     "execution_count": 76,
     "metadata": {},
     "output_type": "execute_result"
    }
   ],
   "execution_count": 76
  },
  {
   "metadata": {
    "ExecuteTime": {
     "end_time": "2025-04-23T07:18:11.502378Z",
     "start_time": "2025-04-23T07:18:11.496428Z"
    }
   },
   "cell_type": "code",
   "source": [
    "# 查看斜率及截距项\n",
    "print('查看斜率及截距项：', results_updated.params)\n"
   ],
   "id": "308c1be90c785ae5",
   "outputs": [
    {
     "name": "stdout",
     "output_type": "stream",
     "text": [
      "查看斜率及截距项： const   -896.747633\n",
      "x1        46.410789\n",
      "x2        -0.746184\n",
      "x3         0.004253\n",
      "dtype: float64\n"
     ]
    }
   ],
   "execution_count": 77
  },
  {
   "metadata": {
    "ExecuteTime": {
     "end_time": "2025-04-23T07:18:11.510306Z",
     "start_time": "2025-04-23T07:18:11.503578Z"
    }
   },
   "cell_type": "code",
   "source": [
    "# 预测值\n",
    "y_predict_updated = results_updated.predict()\n",
    "y_predict_updated\n"
   ],
   "id": "7eea3873cd6029cf",
   "outputs": [
    {
     "data": {
      "text/plain": [
       "array([114.63856209, 117.40676937, 120.18801264, 123.00780722,\n",
       "       125.89166846, 128.86511168, 131.95365223, 135.18280543,\n",
       "       138.57808662, 142.16501113, 145.9690943 , 150.01585147,\n",
       "       154.33079796, 158.93944911, 163.86732026])"
      ]
     },
     "execution_count": 78,
     "metadata": {},
     "output_type": "execute_result"
    }
   ],
   "execution_count": 78
  },
  {
   "metadata": {
    "ExecuteTime": {
     "end_time": "2025-04-23T07:18:11.647201Z",
     "start_time": "2025-04-23T07:18:11.511343Z"
    }
   },
   "cell_type": "code",
   "source": [
    "# 设置字体\n",
    "plt.rcParams['font.family'] = \"simHei\"\n",
    "# plt.rcParams[\"font.family\"] = 'Heiti TC'  # 注释掉的代码\n",
    "\n",
    "# 绘制散点图\n",
    "plt.scatter(df_women[\"height\"], df_women[\"weight\"])\n",
    "\n",
    "# 绘制线性回归拟合直线\n",
    "plt.plot(df_women[\"height\"], y_predict_updated, \"y\")\n",
    "\n",
    "# 添加标题、坐标轴标签\n",
    "plt.title(\"女性身高与体重数据的线性回归分析\")\n",
    "plt.xlabel(\"身高\")\n",
    "plt.ylabel(\"体重\")\n"
   ],
   "id": "30cce56af6436876",
   "outputs": [
    {
     "data": {
      "text/plain": [
       "Text(0, 0.5, '体重')"
      ]
     },
     "execution_count": 79,
     "metadata": {},
     "output_type": "execute_result"
    },
    {
     "data": {
      "text/plain": [
       "<Figure size 640x480 with 1 Axes>"
      ],
      "image/png": "[encoded data removed]"
     },
     "metadata": {},
     "output_type": "display_data"
    }
   ],
   "execution_count": 79
  },
  {
   "metadata": {
    "ExecuteTime": {
     "end_time": "2025-04-23T07:18:11.654227Z",
     "start_time": "2025-04-23T07:18:11.648714Z"
    }
   },
   "cell_type": "code",
   "source": [
    "h = 63.5\n",
    "results_updated.predict((1, h, np.power(h, 2), np.power(h, 3)))\n"
   ],
   "id": "ac328e55df6d5c6",
   "outputs": [
    {
     "data": {
      "text/plain": [
       "array([130.39340008])"
      ]
     },
     "execution_count": 80,
     "metadata": {},
     "output_type": "execute_result"
    }
   ],
   "execution_count": 80
  },
  {
   "metadata": {
    "ExecuteTime": {
     "end_time": "2025-04-23T07:18:11.657656Z",
     "start_time": "2025-04-23T07:18:11.655234Z"
    }
   },
   "cell_type": "code",
   "source": "",
   "id": "42da863ecbfc27b6",
   "outputs": [],
   "execution_count": 80
  }
 ],
 "metadata": {
  "kernelspec": {
   "display_name": "Python 3",
   "language": "python",
   "name": "python3"
  },
  "language_info": {
   "codemirror_mode": {
    "name": "ipython",
    "version": 2
   },
   "file_extension": ".py",
   "mimetype": "text/x-python",
   "name": "python",
   "nbconvert_exporter": "python",
   "pygments_lexer": "ipython2",
   "version": "2.7.6"
  }
 },
 "nbformat": 4,
 "nbformat_minor": 5
}
