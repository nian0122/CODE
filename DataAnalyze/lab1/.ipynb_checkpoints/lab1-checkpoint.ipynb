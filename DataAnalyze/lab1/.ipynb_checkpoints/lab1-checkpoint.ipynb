{
 "cells": [
  {
   "cell_type": "code",
   "id": "2960bd95-b464-41d3-b734-6ab9c7a2ae7e",
   "metadata": {
    "ExecuteTime": {
     "end_time": "2025-04-16T10:24:02.048172Z",
     "start_time": "2025-04-16T10:24:02.042698Z"
    }
   },
   "source": [
    "import numpy as np\n",
    "import pandas as pd\n",
    "from mlxtend.frequent_patterns import apriori\n",
    "from mlxtend.frequent_patterns import association_rules"
   ],
   "outputs": [],
   "execution_count": 5
  },
  {
   "cell_type": "code",
   "id": "983ae716",
   "metadata": {
    "ExecuteTime": {
     "end_time": "2025-04-16T10:24:02.449760Z",
     "start_time": "2025-04-16T10:24:02.446726Z"
    }
   },
   "source": "##help(apriori)",
   "outputs": [],
   "execution_count": 6
  },
  {
   "metadata": {
    "ExecuteTime": {
     "end_time": "2025-04-16T10:25:02.624802Z",
     "start_time": "2025-04-16T10:24:03.031431Z"
    }
   },
   "cell_type": "code",
   "source": [
    "df_Retails = pd.read_excel('Online Retail.xlsx')\n",
    "df_Retails.head()"
   ],
   "id": "fe1b117acbe6cb8c",
   "outputs": [
    {
     "data": {
      "text/plain": [
       "  InvoiceNo StockCode                          Description  Quantity  \\\n",
       "0    536365    85123A   WHITE HANGING HEART T-LIGHT HOLDER         6   \n",
       "1    536365     71053                  WHITE METAL LANTERN         6   \n",
       "2    536365    84406B       CREAM CUPID HEARTS COAT HANGER         8   \n",
       "3    536365    84029G  KNITTED UNION FLAG HOT WATER BOTTLE         6   \n",
       "4    536365    84029E       RED WOOLLY HOTTIE WHITE HEART.         6   \n",
       "\n",
       "          InvoiceDate  UnitPrice  CustomerID         Country  \n",
       "0 2010-12-01 08:26:00       2.55     17850.0  United Kingdom  \n",
       "1 2010-12-01 08:26:00       3.39     17850.0  United Kingdom  \n",
       "2 2010-12-01 08:26:00       2.75     17850.0  United Kingdom  \n",
       "3 2010-12-01 08:26:00       3.39     17850.0  United Kingdom  \n",
       "4 2010-12-01 08:26:00       3.39     17850.0  United Kingdom  "
      ],
      "text/html": [
       "<div>\n",
       "<style scoped>\n",
       "    .dataframe tbody tr th:only-of-type {\n",
       "        vertical-align: middle;\n",
       "    }\n",
       "\n",
       "    .dataframe tbody tr th {\n",
       "        vertical-align: top;\n",
       "    }\n",
       "\n",
       "    .dataframe thead th {\n",
       "        text-align: right;\n",
       "    }\n",
       "</style>\n",
       "<table border=\"1\" class=\"dataframe\">\n",
       "  <thead>\n",
       "    <tr style=\"text-align: right;\">\n",
       "      <th></th>\n",
       "      <th>InvoiceNo</th>\n",
       "      <th>StockCode</th>\n",
       "      <th>Description</th>\n",
       "      <th>Quantity</th>\n",
       "      <th>InvoiceDate</th>\n",
       "      <th>UnitPrice</th>\n",
       "      <th>CustomerID</th>\n",
       "      <th>Country</th>\n",
       "    </tr>\n",
       "  </thead>\n",
       "  <tbody>\n",
       "    <tr>\n",
       "      <th>0</th>\n",
       "      <td>536365</td>\n",
       "      <td>85123A</td>\n",
       "      <td>WHITE HANGING HEART T-LIGHT HOLDER</td>\n",
       "      <td>6</td>\n",
       "      <td>2010-12-01 08:26:00</td>\n",
       "      <td>2.55</td>\n",
       "      <td>17850.0</td>\n",
       "      <td>United Kingdom</td>\n",
       "    </tr>\n",
       "    <tr>\n",
       "      <th>1</th>\n",
       "      <td>536365</td>\n",
       "      <td>71053</td>\n",
       "      <td>WHITE METAL LANTERN</td>\n",
       "      <td>6</td>\n",
       "      <td>2010-12-01 08:26:00</td>\n",
       "      <td>3.39</td>\n",
       "      <td>17850.0</td>\n",
       "      <td>United Kingdom</td>\n",
       "    </tr>\n",
       "    <tr>\n",
       "      <th>2</th>\n",
       "      <td>536365</td>\n",
       "      <td>84406B</td>\n",
       "      <td>CREAM CUPID HEARTS COAT HANGER</td>\n",
       "      <td>8</td>\n",
       "      <td>2010-12-01 08:26:00</td>\n",
       "      <td>2.75</td>\n",
       "      <td>17850.0</td>\n",
       "      <td>United Kingdom</td>\n",
       "    </tr>\n",
       "    <tr>\n",
       "      <th>3</th>\n",
       "      <td>536365</td>\n",
       "      <td>84029G</td>\n",
       "      <td>KNITTED UNION FLAG HOT WATER BOTTLE</td>\n",
       "      <td>6</td>\n",
       "      <td>2010-12-01 08:26:00</td>\n",
       "      <td>3.39</td>\n",
       "      <td>17850.0</td>\n",
       "      <td>United Kingdom</td>\n",
       "    </tr>\n",
       "    <tr>\n",
       "      <th>4</th>\n",
       "      <td>536365</td>\n",
       "      <td>84029E</td>\n",
       "      <td>RED WOOLLY HOTTIE WHITE HEART.</td>\n",
       "      <td>6</td>\n",
       "      <td>2010-12-01 08:26:00</td>\n",
       "      <td>3.39</td>\n",
       "      <td>17850.0</td>\n",
       "      <td>United Kingdom</td>\n",
       "    </tr>\n",
       "  </tbody>\n",
       "</table>\n",
       "</div>"
      ]
     },
     "execution_count": 7,
     "metadata": {},
     "output_type": "execute_result"
    }
   ],
   "execution_count": 7
  },
  {
   "metadata": {
    "ExecuteTime": {
     "end_time": "2025-04-16T10:25:23.341734Z",
     "start_time": "2025-04-16T10:25:23.334124Z"
    }
   },
   "cell_type": "code",
   "source": "df_Retails.shape",
   "id": "623fcc94aeca90f4",
   "outputs": [
    {
     "data": {
      "text/plain": [
       "(541909, 8)"
      ]
     },
     "execution_count": 8,
     "metadata": {},
     "output_type": "execute_result"
    }
   ],
   "execution_count": 8
  },
  {
   "metadata": {
    "ExecuteTime": {
     "end_time": "2025-04-16T10:25:24.338287Z",
     "start_time": "2025-04-16T10:25:24.333259Z"
    }
   },
   "cell_type": "code",
   "source": "df_Retails.columns",
   "id": "c055a8e3b75492ad",
   "outputs": [
    {
     "data": {
      "text/plain": [
       "Index(['InvoiceNo', 'StockCode', 'Description', 'Quantity', 'InvoiceDate',\n",
       "       'UnitPrice', 'CustomerID', 'Country'],\n",
       "      dtype='object')"
      ]
     },
     "execution_count": 9,
     "metadata": {},
     "output_type": "execute_result"
    }
   ],
   "execution_count": 9
  },
  {
   "metadata": {
    "ExecuteTime": {
     "end_time": "2025-04-16T10:25:25.116591Z",
     "start_time": "2025-04-16T10:25:25.040222Z"
    }
   },
   "cell_type": "code",
   "source": "df_Retails.describe()",
   "id": "7cc239b57f5594cd",
   "outputs": [
    {
     "data": {
      "text/plain": [
       "            Quantity                    InvoiceDate      UnitPrice  \\\n",
       "count  541909.000000                         541909  541909.000000   \n",
       "mean        9.552250  2011-07-04 13:34:57.156386048       4.611114   \n",
       "min    -80995.000000            2010-12-01 08:26:00  -11062.060000   \n",
       "25%         1.000000            2011-03-28 11:34:00       1.250000   \n",
       "50%         3.000000            2011-07-19 17:17:00       2.080000   \n",
       "75%        10.000000            2011-10-19 11:27:00       4.130000   \n",
       "max     80995.000000            2011-12-09 12:50:00   38970.000000   \n",
       "std       218.081158                            NaN      96.759853   \n",
       "\n",
       "          CustomerID  \n",
       "count  406829.000000  \n",
       "mean    15287.690570  \n",
       "min     12346.000000  \n",
       "25%     13953.000000  \n",
       "50%     15152.000000  \n",
       "75%     16791.000000  \n",
       "max     18287.000000  \n",
       "std      1713.600303  "
      ],
      "text/html": [
       "<div>\n",
       "<style scoped>\n",
       "    .dataframe tbody tr th:only-of-type {\n",
       "        vertical-align: middle;\n",
       "    }\n",
       "\n",
       "    .dataframe tbody tr th {\n",
       "        vertical-align: top;\n",
       "    }\n",
       "\n",
       "    .dataframe thead th {\n",
       "        text-align: right;\n",
       "    }\n",
       "</style>\n",
       "<table border=\"1\" class=\"dataframe\">\n",
       "  <thead>\n",
       "    <tr style=\"text-align: right;\">\n",
       "      <th></th>\n",
       "      <th>Quantity</th>\n",
       "      <th>InvoiceDate</th>\n",
       "      <th>UnitPrice</th>\n",
       "      <th>CustomerID</th>\n",
       "    </tr>\n",
       "  </thead>\n",
       "  <tbody>\n",
       "    <tr>\n",
       "      <th>count</th>\n",
       "      <td>541909.000000</td>\n",
       "      <td>541909</td>\n",
       "      <td>541909.000000</td>\n",
       "      <td>406829.000000</td>\n",
       "    </tr>\n",
       "    <tr>\n",
       "      <th>mean</th>\n",
       "      <td>9.552250</td>\n",
       "      <td>2011-07-04 13:34:57.156386048</td>\n",
       "      <td>4.611114</td>\n",
       "      <td>15287.690570</td>\n",
       "    </tr>\n",
       "    <tr>\n",
       "      <th>min</th>\n",
       "      <td>-80995.000000</td>\n",
       "      <td>2010-12-01 08:26:00</td>\n",
       "      <td>-11062.060000</td>\n",
       "      <td>12346.000000</td>\n",
       "    </tr>\n",
       "    <tr>\n",
       "      <th>25%</th>\n",
       "      <td>1.000000</td>\n",
       "      <td>2011-03-28 11:34:00</td>\n",
       "      <td>1.250000</td>\n",
       "      <td>13953.000000</td>\n",
       "    </tr>\n",
       "    <tr>\n",
       "      <th>50%</th>\n",
       "      <td>3.000000</td>\n",
       "      <td>2011-07-19 17:17:00</td>\n",
       "      <td>2.080000</td>\n",
       "      <td>15152.000000</td>\n",
       "    </tr>\n",
       "    <tr>\n",
       "      <th>75%</th>\n",
       "      <td>10.000000</td>\n",
       "      <td>2011-10-19 11:27:00</td>\n",
       "      <td>4.130000</td>\n",
       "      <td>16791.000000</td>\n",
       "    </tr>\n",
       "    <tr>\n",
       "      <th>max</th>\n",
       "      <td>80995.000000</td>\n",
       "      <td>2011-12-09 12:50:00</td>\n",
       "      <td>38970.000000</td>\n",
       "      <td>18287.000000</td>\n",
       "    </tr>\n",
       "    <tr>\n",
       "      <th>std</th>\n",
       "      <td>218.081158</td>\n",
       "      <td>NaN</td>\n",
       "      <td>96.759853</td>\n",
       "      <td>1713.600303</td>\n",
       "    </tr>\n",
       "  </tbody>\n",
       "</table>\n",
       "</div>"
      ]
     },
     "execution_count": 10,
     "metadata": {},
     "output_type": "execute_result"
    }
   ],
   "execution_count": 10
  },
  {
   "metadata": {
    "ExecuteTime": {
     "end_time": "2025-04-16T10:25:26.085541Z",
     "start_time": "2025-04-16T10:25:26.015867Z"
    }
   },
   "cell_type": "code",
   "source": "df_Retails.info()",
   "id": "c11d7fe7d95250d5",
   "outputs": [
    {
     "name": "stdout",
     "output_type": "stream",
     "text": [
      "<class 'pandas.core.frame.DataFrame'>\n",
      "RangeIndex: 541909 entries, 0 to 541908\n",
      "Data columns (total 8 columns):\n",
      " #   Column       Non-Null Count   Dtype         \n",
      "---  ------       --------------   -----         \n",
      " 0   InvoiceNo    541909 non-null  object        \n",
      " 1   StockCode    541909 non-null  object        \n",
      " 2   Description  540455 non-null  object        \n",
      " 3   Quantity     541909 non-null  int64         \n",
      " 4   InvoiceDate  541909 non-null  datetime64[ns]\n",
      " 5   UnitPrice    541909 non-null  float64       \n",
      " 6   CustomerID   406829 non-null  float64       \n",
      " 7   Country      541909 non-null  object        \n",
      "dtypes: datetime64[ns](1), float64(2), int64(1), object(4)\n",
      "memory usage: 33.1+ MB\n"
     ]
    }
   ],
   "execution_count": 11
  },
  {
   "metadata": {
    "ExecuteTime": {
     "end_time": "2025-04-16T10:25:27.053349Z",
     "start_time": "2025-04-16T10:25:27.020215Z"
    }
   },
   "cell_type": "code",
   "source": "df_Retails.Country.unique()",
   "id": "160846fa16d5792d",
   "outputs": [
    {
     "data": {
      "text/plain": [
       "array(['United Kingdom', 'France', 'Australia', 'Netherlands', 'Germany',\n",
       "       'Norway', 'EIRE', 'Switzerland', 'Spain', 'Poland', 'Portugal',\n",
       "       'Italy', 'Belgium', 'Lithuania', 'Japan', 'Iceland',\n",
       "       'Channel Islands', 'Denmark', 'Cyprus', 'Sweden', 'Austria',\n",
       "       'Israel', 'Finland', 'Bahrain', 'Greece', 'Hong Kong', 'Singapore',\n",
       "       'Lebanon', 'United Arab Emirates', 'Saudi Arabia',\n",
       "       'Czech Republic', 'Canada', 'Unspecified', 'Brazil', 'USA',\n",
       "       'European Community', 'Malta', 'RSA'], dtype=object)"
      ]
     },
     "execution_count": 12,
     "metadata": {},
     "output_type": "execute_result"
    }
   ],
   "execution_count": 12
  },
  {
   "metadata": {
    "ExecuteTime": {
     "end_time": "2025-04-16T10:25:27.685595Z",
     "start_time": "2025-04-16T10:25:27.662824Z"
    }
   },
   "cell_type": "code",
   "source": "df_Retails[\"Country\"].value_counts()",
   "id": "2b3b1df1e72bfccb",
   "outputs": [
    {
     "data": {
      "text/plain": [
       "Country\n",
       "United Kingdom          495478\n",
       "Germany                   9495\n",
       "France                    8557\n",
       "EIRE                      8196\n",
       "Spain                     2533\n",
       "Netherlands               2371\n",
       "Belgium                   2069\n",
       "Switzerland               2002\n",
       "Portugal                  1519\n",
       "Australia                 1259\n",
       "Norway                    1086\n",
       "Italy                      803\n",
       "Channel Islands            758\n",
       "Finland                    695\n",
       "Cyprus                     622\n",
       "Sweden                     462\n",
       "Unspecified                446\n",
       "Austria                    401\n",
       "Denmark                    389\n",
       "Japan                      358\n",
       "Poland                     341\n",
       "Israel                     297\n",
       "USA                        291\n",
       "Hong Kong                  288\n",
       "Singapore                  229\n",
       "Iceland                    182\n",
       "Canada                     151\n",
       "Greece                     146\n",
       "Malta                      127\n",
       "United Arab Emirates        68\n",
       "European Community          61\n",
       "RSA                         58\n",
       "Lebanon                     45\n",
       "Lithuania                   35\n",
       "Brazil                      32\n",
       "Czech Republic              30\n",
       "Bahrain                     19\n",
       "Saudi Arabia                10\n",
       "Name: count, dtype: int64"
      ]
     },
     "execution_count": 13,
     "metadata": {},
     "output_type": "execute_result"
    }
   ],
   "execution_count": 13
  },
  {
   "metadata": {
    "ExecuteTime": {
     "end_time": "2025-04-16T10:25:28.565914Z",
     "start_time": "2025-04-16T10:25:28.545427Z"
    }
   },
   "cell_type": "code",
   "source": "df_Retails.duplicated(subset=[\"InvoiceNo\"]).any()",
   "id": "a382c77bdaf943b4",
   "outputs": [
    {
     "data": {
      "text/plain": [
       "np.True_"
      ]
     },
     "execution_count": 14,
     "metadata": {},
     "output_type": "execute_result"
    }
   ],
   "execution_count": 14
  },
  {
   "metadata": {
    "ExecuteTime": {
     "end_time": "2025-04-16T10:25:29.519084Z",
     "start_time": "2025-04-16T10:25:29.456128Z"
    }
   },
   "cell_type": "code",
   "source": "df_Retails.isna().sum()",
   "id": "24dd2d4a31900890",
   "outputs": [
    {
     "data": {
      "text/plain": [
       "InvoiceNo           0\n",
       "StockCode           0\n",
       "Description      1454\n",
       "Quantity            0\n",
       "InvoiceDate         0\n",
       "UnitPrice           0\n",
       "CustomerID     135080\n",
       "Country             0\n",
       "dtype: int64"
      ]
     },
     "execution_count": 15,
     "metadata": {},
     "output_type": "execute_result"
    }
   ],
   "execution_count": 15
  },
  {
   "metadata": {
    "ExecuteTime": {
     "end_time": "2025-04-16T10:25:30.470858Z",
     "start_time": "2025-04-16T10:25:30.311777Z"
    }
   },
   "cell_type": "code",
   "source": "df_Retails[\"Description\"] = df_Retails[\"Description\"].str.strip()",
   "id": "a7678f678286a97",
   "outputs": [],
   "execution_count": 16
  },
  {
   "metadata": {
    "ExecuteTime": {
     "end_time": "2025-04-16T10:25:31.462782Z",
     "start_time": "2025-04-16T10:25:31.457057Z"
    }
   },
   "cell_type": "code",
   "source": "df_Retails[\"Description\"] = df_Retails[\"Description\"].str?",
   "id": "1c3e24c86083ca76",
   "outputs": [],
   "execution_count": 17
  },
  {
   "metadata": {
    "ExecuteTime": {
     "end_time": "2025-04-16T10:25:32.084165Z",
     "start_time": "2025-04-16T10:25:32.070690Z"
    }
   },
   "cell_type": "code",
   "source": "df_Retails[\"Description\"] = df_Retails[\"Description\"].str.lower",
   "id": "d09e07ba29256c9",
   "outputs": [],
   "execution_count": 18
  },
  {
   "metadata": {
    "ExecuteTime": {
     "end_time": "2025-04-16T10:25:33.009341Z",
     "start_time": "2025-04-16T10:25:32.986906Z"
    }
   },
   "cell_type": "code",
   "source": "df_Retails[\"Description\"].isna().sum()",
   "id": "60a5065694f2f2d4",
   "outputs": [
    {
     "data": {
      "text/plain": [
       "np.int64(0)"
      ]
     },
     "execution_count": 19,
     "metadata": {},
     "output_type": "execute_result"
    }
   ],
   "execution_count": 19
  },
  {
   "metadata": {
    "ExecuteTime": {
     "end_time": "2025-04-16T10:25:33.637368Z",
     "start_time": "2025-04-16T10:25:33.580071Z"
    }
   },
   "cell_type": "code",
   "source": [
    "df_Retails.dropna(axis=0\n",
    "                  , subset=[\"Description\"]\n",
    "                  , inplace=True)"
   ],
   "id": "ce1721934ddd1ed2",
   "outputs": [],
   "execution_count": 20
  },
  {
   "metadata": {
    "ExecuteTime": {
     "end_time": "2025-04-16T10:25:34.336814Z",
     "start_time": "2025-04-16T10:25:34.331207Z"
    }
   },
   "cell_type": "code",
   "source": "df_Retails.shape",
   "id": "4c9f2002bf401091",
   "outputs": [
    {
     "data": {
      "text/plain": [
       "(541909, 8)"
      ]
     },
     "execution_count": 21,
     "metadata": {},
     "output_type": "execute_result"
    }
   ],
   "execution_count": 21
  },
  {
   "metadata": {
    "ExecuteTime": {
     "end_time": "2025-04-16T10:25:34.790513Z",
     "start_time": "2025-04-16T10:25:34.771039Z"
    }
   },
   "cell_type": "code",
   "source": "df_Retails[\"Description\"].isna().sum()",
   "id": "3d0081109c96b3b",
   "outputs": [
    {
     "data": {
      "text/plain": [
       "np.int64(0)"
      ]
     },
     "execution_count": 22,
     "metadata": {},
     "output_type": "execute_result"
    }
   ],
   "execution_count": 22
  },
  {
   "metadata": {
    "ExecuteTime": {
     "end_time": "2025-04-16T10:25:35.557967Z",
     "start_time": "2025-04-16T10:25:35.333647Z"
    }
   },
   "cell_type": "code",
   "source": [
    "df_Retails[\"InvoiceNo\"] = df_Retails[\"InvoiceNo\"].astype(\"str\")\n",
    "df_Retails = df_Retails[~df_Retails[\"InvoiceNo\"].str.startswith('C')]"
   ],
   "id": "64fd45e831d64870",
   "outputs": [],
   "execution_count": 23
  },
  {
   "metadata": {
    "ExecuteTime": {
     "end_time": "2025-04-16T10:25:36.242492Z",
     "start_time": "2025-04-16T10:25:36.075226Z"
    }
   },
   "cell_type": "code",
   "source": "df_Retails = df_Retails[~df_Retails[\"InvoiceNo\"].str.contains(\"C\")]",
   "id": "816cbc056ced8385",
   "outputs": [],
   "execution_count": 24
  },
  {
   "metadata": {
    "ExecuteTime": {
     "end_time": "2025-04-16T10:25:36.524954Z",
     "start_time": "2025-04-16T10:25:36.519632Z"
    }
   },
   "cell_type": "code",
   "source": "df_Retails.shape",
   "id": "ca80661f6cd647bf",
   "outputs": [
    {
     "data": {
      "text/plain": [
       "(532621, 8)"
      ]
     },
     "execution_count": 25,
     "metadata": {},
     "output_type": "execute_result"
    }
   ],
   "execution_count": 25
  },
  {
   "metadata": {
    "ExecuteTime": {
     "end_time": "2025-04-16T10:25:37.224661Z",
     "start_time": "2025-04-16T10:25:37.191591Z"
    }
   },
   "cell_type": "code",
   "source": [
    "df_ShoppingCarts = (df_Retails[df_Retails[\"Country\"] == \"Germany\"]\n",
    "                    .groupby([\"InvoiceNo\",\"Description\"])[\"Quantity\"]\n",
    "                    .sum()\n",
    "                    .unstack()\n",
    "                    .reset_index()\n",
    "                    .fillna(0)\n",
    "                    .set_index(\"InvoiceNo\"))\n",
    "df_ShoppingCarts.shape"
   ],
   "id": "ade34669b43b7dfb",
   "outputs": [
    {
     "data": {
      "text/plain": [
       "(457, 1)"
      ]
     },
     "execution_count": 26,
     "metadata": {},
     "output_type": "execute_result"
    }
   ],
   "execution_count": 26
  },
  {
   "metadata": {
    "ExecuteTime": {
     "end_time": "2025-04-16T10:25:38.405Z",
     "start_time": "2025-04-16T10:25:38.397727Z"
    }
   },
   "cell_type": "code",
   "source": "df_ShoppingCarts.head()",
   "id": "f6e85b5218bab68",
   "outputs": [
    {
     "data": {
      "text/plain": [
       "Description  <bound method StringMethods.lower of <pandas.core.strings.accessor.StringMethods object at 0x000002E036570DA0>>\n",
       "InvoiceNo                                                                                                                   \n",
       "536527                                                     157                                                              \n",
       "536840                                                     148                                                              \n",
       "536861                                                      79                                                              \n",
       "536967                                                      31                                                              \n",
       "536983                                                      60                                                              "
      ],
      "text/html": [
       "<div>\n",
       "<style scoped>\n",
       "    .dataframe tbody tr th:only-of-type {\n",
       "        vertical-align: middle;\n",
       "    }\n",
       "\n",
       "    .dataframe tbody tr th {\n",
       "        vertical-align: top;\n",
       "    }\n",
       "\n",
       "    .dataframe thead th {\n",
       "        text-align: right;\n",
       "    }\n",
       "</style>\n",
       "<table border=\"1\" class=\"dataframe\">\n",
       "  <thead>\n",
       "    <tr style=\"text-align: right;\">\n",
       "      <th>Description</th>\n",
       "      <th>&lt;bound method StringMethods.lower of &lt;pandas.core.strings.accessor.StringMethods object at 0x000002E036570DA0&gt;&gt;</th>\n",
       "    </tr>\n",
       "    <tr>\n",
       "      <th>InvoiceNo</th>\n",
       "      <th></th>\n",
       "    </tr>\n",
       "  </thead>\n",
       "  <tbody>\n",
       "    <tr>\n",
       "      <th>536527</th>\n",
       "      <td>157</td>\n",
       "    </tr>\n",
       "    <tr>\n",
       "      <th>536840</th>\n",
       "      <td>148</td>\n",
       "    </tr>\n",
       "    <tr>\n",
       "      <th>536861</th>\n",
       "      <td>79</td>\n",
       "    </tr>\n",
       "    <tr>\n",
       "      <th>536967</th>\n",
       "      <td>31</td>\n",
       "    </tr>\n",
       "    <tr>\n",
       "      <th>536983</th>\n",
       "      <td>60</td>\n",
       "    </tr>\n",
       "  </tbody>\n",
       "</table>\n",
       "</div>"
      ]
     },
     "execution_count": 27,
     "metadata": {},
     "output_type": "execute_result"
    }
   ],
   "execution_count": 27
  },
  {
   "metadata": {
    "ExecuteTime": {
     "end_time": "2025-04-16T10:25:39.926740Z",
     "start_time": "2025-04-16T10:25:39.919800Z"
    }
   },
   "cell_type": "code",
   "source": "df_ShoppingCarts.reset_index().duplicated(subset=[\"InvoiceNo\"]).any()",
   "id": "5ce10924d33c0413",
   "outputs": [
    {
     "data": {
      "text/plain": [
       "np.False_"
      ]
     },
     "execution_count": 28,
     "metadata": {},
     "output_type": "execute_result"
    }
   ],
   "execution_count": 28
  },
  {
   "metadata": {
    "ExecuteTime": {
     "end_time": "2025-04-16T10:25:40.818110Z",
     "start_time": "2025-04-16T10:25:40.809529Z"
    }
   },
   "cell_type": "code",
   "source": [
    "def encode_units(x):\n",
    "    if x <= 0:\n",
    "        return 0\n",
    "    if x >= 1:\n",
    "        return 1\n",
    "df_ShoppingCarts_sets = df_ShoppingCarts.map(encode_units)\n",
    "df_ShoppingCarts_sets"
   ],
   "id": "3628f26b665e0674",
   "outputs": [
    {
     "data": {
      "text/plain": [
       "Description  <bound method StringMethods.lower of <pandas.core.strings.accessor.StringMethods object at 0x000002E036570DA0>>\n",
       "InvoiceNo                                                                                                                   \n",
       "536527                                                       1                                                              \n",
       "536840                                                       1                                                              \n",
       "536861                                                       1                                                              \n",
       "536967                                                       1                                                              \n",
       "536983                                                       1                                                              \n",
       "...                                                        ...                                                              \n",
       "581266                                                       1                                                              \n",
       "581494                                                       1                                                              \n",
       "581570                                                       1                                                              \n",
       "581574                                                       1                                                              \n",
       "581578                                                       1                                                              \n",
       "\n",
       "[457 rows x 1 columns]"
      ],
      "text/html": [
       "<div>\n",
       "<style scoped>\n",
       "    .dataframe tbody tr th:only-of-type {\n",
       "        vertical-align: middle;\n",
       "    }\n",
       "\n",
       "    .dataframe tbody tr th {\n",
       "        vertical-align: top;\n",
       "    }\n",
       "\n",
       "    .dataframe thead th {\n",
       "        text-align: right;\n",
       "    }\n",
       "</style>\n",
       "<table border=\"1\" class=\"dataframe\">\n",
       "  <thead>\n",
       "    <tr style=\"text-align: right;\">\n",
       "      <th>Description</th>\n",
       "      <th>&lt;bound method StringMethods.lower of &lt;pandas.core.strings.accessor.StringMethods object at 0x000002E036570DA0&gt;&gt;</th>\n",
       "    </tr>\n",
       "    <tr>\n",
       "      <th>InvoiceNo</th>\n",
       "      <th></th>\n",
       "    </tr>\n",
       "  </thead>\n",
       "  <tbody>\n",
       "    <tr>\n",
       "      <th>536527</th>\n",
       "      <td>1</td>\n",
       "    </tr>\n",
       "    <tr>\n",
       "      <th>536840</th>\n",
       "      <td>1</td>\n",
       "    </tr>\n",
       "    <tr>\n",
       "      <th>536861</th>\n",
       "      <td>1</td>\n",
       "    </tr>\n",
       "    <tr>\n",
       "      <th>536967</th>\n",
       "      <td>1</td>\n",
       "    </tr>\n",
       "    <tr>\n",
       "      <th>536983</th>\n",
       "      <td>1</td>\n",
       "    </tr>\n",
       "    <tr>\n",
       "      <th>...</th>\n",
       "      <td>...</td>\n",
       "    </tr>\n",
       "    <tr>\n",
       "      <th>581266</th>\n",
       "      <td>1</td>\n",
       "    </tr>\n",
       "    <tr>\n",
       "      <th>581494</th>\n",
       "      <td>1</td>\n",
       "    </tr>\n",
       "    <tr>\n",
       "      <th>581570</th>\n",
       "      <td>1</td>\n",
       "    </tr>\n",
       "    <tr>\n",
       "      <th>581574</th>\n",
       "      <td>1</td>\n",
       "    </tr>\n",
       "    <tr>\n",
       "      <th>581578</th>\n",
       "      <td>1</td>\n",
       "    </tr>\n",
       "  </tbody>\n",
       "</table>\n",
       "<p>457 rows × 1 columns</p>\n",
       "</div>"
      ]
     },
     "execution_count": 29,
     "metadata": {},
     "output_type": "execute_result"
    }
   ],
   "execution_count": 29
  },
  {
   "metadata": {
    "ExecuteTime": {
     "end_time": "2025-04-16T10:25:54.082056Z",
     "start_time": "2025-04-16T10:25:54.072211Z"
    }
   },
   "cell_type": "code",
   "source": [
    "df_Frequent_Itemsets = apriori(df_ShoppingCarts_sets\n",
    "                             , min_support=0.07\n",
    "                             , use_colnames=True)\n",
    "df_Frequent_Itemsets"
   ],
   "id": "f9eef9f1a47627ee",
   "outputs": [
    {
     "name": "stderr",
     "output_type": "stream",
     "text": [
      "E:\\Software\\anaconda3\\envs\\python312\\Lib\\site-packages\\mlxtend\\frequent_patterns\\fpcommon.py:161: DeprecationWarning: DataFrames with non-bool types result in worse computationalperformance and their support might be discontinued in the future.Please use a DataFrame with bool type\n",
      "  warnings.warn(\n"
     ]
    },
    {
     "data": {
      "text/plain": [
       "   support                                           itemsets\n",
       "0      1.0  (<bound method StringMethods.lower of <pandas...."
      ],
      "text/html": [
       "<div>\n",
       "<style scoped>\n",
       "    .dataframe tbody tr th:only-of-type {\n",
       "        vertical-align: middle;\n",
       "    }\n",
       "\n",
       "    .dataframe tbody tr th {\n",
       "        vertical-align: top;\n",
       "    }\n",
       "\n",
       "    .dataframe thead th {\n",
       "        text-align: right;\n",
       "    }\n",
       "</style>\n",
       "<table border=\"1\" class=\"dataframe\">\n",
       "  <thead>\n",
       "    <tr style=\"text-align: right;\">\n",
       "      <th></th>\n",
       "      <th>support</th>\n",
       "      <th>itemsets</th>\n",
       "    </tr>\n",
       "  </thead>\n",
       "  <tbody>\n",
       "    <tr>\n",
       "      <th>0</th>\n",
       "      <td>1.0</td>\n",
       "      <td>(&lt;bound method StringMethods.lower of &lt;pandas....</td>\n",
       "    </tr>\n",
       "  </tbody>\n",
       "</table>\n",
       "</div>"
      ]
     },
     "execution_count": 30,
     "metadata": {},
     "output_type": "execute_result"
    }
   ],
   "execution_count": 30
  },
  {
   "metadata": {
    "ExecuteTime": {
     "end_time": "2025-04-16T10:25:54.615642Z",
     "start_time": "2025-04-16T10:25:54.609640Z"
    }
   },
   "cell_type": "code",
   "source": "df_Frequent_Itemsets.shape",
   "id": "542ce94497632433",
   "outputs": [
    {
     "data": {
      "text/plain": [
       "(1, 2)"
      ]
     },
     "execution_count": 31,
     "metadata": {},
     "output_type": "execute_result"
    }
   ],
   "execution_count": 31
  },
  {
   "metadata": {
    "ExecuteTime": {
     "end_time": "2025-04-16T10:25:55.215810Z",
     "start_time": "2025-04-16T10:25:55.207143Z"
    }
   },
   "cell_type": "code",
   "source": [
    "df_AssociationRules = association_rules(df_Frequent_Itemsets\n",
    "                                        , metric=\"lift\"\n",
    "                                        , min_threshold=1)\n",
    "df_AssociationRules.head()"
   ],
   "id": "be32f7c8ac380e78",
   "outputs": [
    {
     "data": {
      "text/plain": [
       "Empty DataFrame\n",
       "Columns: [antecedents, consequents, antecedent support, consequent support, support, confidence, lift, representativity, leverage, conviction, zhangs_metric, jaccard, certainty, kulczynski]\n",
       "Index: []"
      ],
      "text/html": [
       "<div>\n",
       "<style scoped>\n",
       "    .dataframe tbody tr th:only-of-type {\n",
       "        vertical-align: middle;\n",
       "    }\n",
       "\n",
       "    .dataframe tbody tr th {\n",
       "        vertical-align: top;\n",
       "    }\n",
       "\n",
       "    .dataframe thead th {\n",
       "        text-align: right;\n",
       "    }\n",
       "</style>\n",
       "<table border=\"1\" class=\"dataframe\">\n",
       "  <thead>\n",
       "    <tr style=\"text-align: right;\">\n",
       "      <th></th>\n",
       "      <th>antecedents</th>\n",
       "      <th>consequents</th>\n",
       "      <th>antecedent support</th>\n",
       "      <th>consequent support</th>\n",
       "      <th>support</th>\n",
       "      <th>confidence</th>\n",
       "      <th>lift</th>\n",
       "      <th>representativity</th>\n",
       "      <th>leverage</th>\n",
       "      <th>conviction</th>\n",
       "      <th>zhangs_metric</th>\n",
       "      <th>jaccard</th>\n",
       "      <th>certainty</th>\n",
       "      <th>kulczynski</th>\n",
       "    </tr>\n",
       "  </thead>\n",
       "  <tbody>\n",
       "  </tbody>\n",
       "</table>\n",
       "</div>"
      ]
     },
     "execution_count": 32,
     "metadata": {},
     "output_type": "execute_result"
    }
   ],
   "execution_count": 32
  },
  {
   "metadata": {
    "ExecuteTime": {
     "end_time": "2025-04-16T10:25:55.960151Z",
     "start_time": "2025-04-16T10:25:55.954654Z"
    }
   },
   "cell_type": "code",
   "source": "df_AssociationRules.shape",
   "id": "9d38ab00634a9acf",
   "outputs": [
    {
     "data": {
      "text/plain": [
       "(0, 14)"
      ]
     },
     "execution_count": 33,
     "metadata": {},
     "output_type": "execute_result"
    }
   ],
   "execution_count": 33
  },
  {
   "metadata": {
    "ExecuteTime": {
     "end_time": "2025-04-16T10:25:56.560457Z",
     "start_time": "2025-04-16T10:25:56.552238Z"
    }
   },
   "cell_type": "code",
   "source": [
    "df_A = df_AssociationRules[(\n",
    "    df_AssociationRules['lift'] >= 2\n",
    ") & (\n",
    "    df_AssociationRules['confidence'] >= 0.8\n",
    ")]\n",
    "df_A"
   ],
   "id": "cddb89737536f0d1",
   "outputs": [
    {
     "data": {
      "text/plain": [
       "Empty DataFrame\n",
       "Columns: [antecedents, consequents, antecedent support, consequent support, support, confidence, lift, representativity, leverage, conviction, zhangs_metric, jaccard, certainty, kulczynski]\n",
       "Index: []"
      ],
      "text/html": [
       "<div>\n",
       "<style scoped>\n",
       "    .dataframe tbody tr th:only-of-type {\n",
       "        vertical-align: middle;\n",
       "    }\n",
       "\n",
       "    .dataframe tbody tr th {\n",
       "        vertical-align: top;\n",
       "    }\n",
       "\n",
       "    .dataframe thead th {\n",
       "        text-align: right;\n",
       "    }\n",
       "</style>\n",
       "<table border=\"1\" class=\"dataframe\">\n",
       "  <thead>\n",
       "    <tr style=\"text-align: right;\">\n",
       "      <th></th>\n",
       "      <th>antecedents</th>\n",
       "      <th>consequents</th>\n",
       "      <th>antecedent support</th>\n",
       "      <th>consequent support</th>\n",
       "      <th>support</th>\n",
       "      <th>confidence</th>\n",
       "      <th>lift</th>\n",
       "      <th>representativity</th>\n",
       "      <th>leverage</th>\n",
       "      <th>conviction</th>\n",
       "      <th>zhangs_metric</th>\n",
       "      <th>jaccard</th>\n",
       "      <th>certainty</th>\n",
       "      <th>kulczynski</th>\n",
       "    </tr>\n",
       "  </thead>\n",
       "  <tbody>\n",
       "  </tbody>\n",
       "</table>\n",
       "</div>"
      ]
     },
     "execution_count": 34,
     "metadata": {},
     "output_type": "execute_result"
    }
   ],
   "execution_count": 34
  },
  {
   "metadata": {
    "ExecuteTime": {
     "end_time": "2025-04-16T10:25:57.181711Z",
     "start_time": "2025-04-16T10:25:57.177181Z"
    }
   },
   "cell_type": "code",
   "source": "df_A.shape",
   "id": "7a2de236759ca548",
   "outputs": [
    {
     "data": {
      "text/plain": [
       "(0, 14)"
      ]
     },
     "execution_count": 35,
     "metadata": {},
     "output_type": "execute_result"
    }
   ],
   "execution_count": 35
  },
  {
   "metadata": {
    "ExecuteTime": {
     "end_time": "2025-04-16T10:26:18.907527Z",
     "start_time": "2025-04-16T10:26:16.347861Z"
    }
   },
   "cell_type": "code",
   "source": [
    "import seaborn as sns\n",
    "sns.scatterplot(\n",
    "    x=\"support\",\n",
    "    y=\"confidence\",\n",
    "    size=\"lift\",\n",
    "    data=df_AssociationRules\n",
    ")\n"
   ],
   "id": "46eb231924483c4e",
   "outputs": [
    {
     "data": {
      "text/plain": [
       "<Axes: >"
      ]
     },
     "execution_count": 37,
     "metadata": {},
     "output_type": "execute_result"
    },
    {
     "data": {
      "text/plain": [
       "<Figure size 640x480 with 1 Axes>"
      ],
      "image/png": "[encoded data removed]"
     },
     "metadata": {},
     "output_type": "display_data"
    }
   ],
   "execution_count": 37
  },
  {
   "metadata": {
    "ExecuteTime": {
     "end_time": "2025-04-16T09:18:19.206772Z",
     "start_time": "2025-04-16T09:18:19.194392Z"
    }
   },
   "cell_type": "code",
   "source": "",
   "id": "6b7991fa0601e720",
   "outputs": [],
   "execution_count": 65
  }
 ],
 "metadata": {
  "kernelspec": {
   "display_name": "python310_1",
   "language": "python",
   "name": "python3"
  },
  "language_info": {
   "codemirror_mode": {
    "name": "ipython",
    "version": 3
   },
   "file_extension": ".py",
   "mimetype": "text/x-python",
   "name": "python",
   "nbconvert_exporter": "python",
   "pygments_lexer": "ipython3",
   "version": "3.10.13"
  }
 },
 "nbformat": 4,
 "nbformat_minor": 5
}
