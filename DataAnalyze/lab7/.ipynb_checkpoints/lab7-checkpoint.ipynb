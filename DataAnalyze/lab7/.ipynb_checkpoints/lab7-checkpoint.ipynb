{
 "cells": [
  {
   "cell_type": "code",
   "id": "initial_id",
   "metadata": {
    "collapsed": true,
    "ExecuteTime": {
     "end_time": "2025-05-28T06:48:30.996992Z",
     "start_time": "2025-05-28T06:48:30.982835Z"
    }
   },
   "source": [
    "import pandas as pd\n",
    "import numpy as np\n",
    "import matplotlib.pyplot as plt\n",
    "import seaborn as sns\n",
    " \n",
    "protein = pd.read_table('protein.txt',sep = '\\t')\n",
    "protein.head()"
   ],
   "outputs": [
    {
     "data": {
      "text/plain": [
       "          Country  RedMeat  WhiteMeat  Eggs  Milk  Fish  Cereals  Starch  \\\n",
       "0         Albania     10.1        1.4   0.5   8.9   0.2     42.3     0.6   \n",
       "1         Austria      8.9       14.0   4.3  19.9   2.1     28.0     3.6   \n",
       "2         Belgium     13.5        9.3   4.1  17.5   4.5     26.6     5.7   \n",
       "3        Bulgaria      7.8        6.0   1.6   8.3   1.2     56.7     1.1   \n",
       "4  Czechoslovakia      9.7       11.4   2.8  12.5   2.0     34.3     5.0   \n",
       "\n",
       "   Nuts  Fr&Veg  \n",
       "0   5.5     1.7  \n",
       "1   1.3     4.3  \n",
       "2   2.1     4.0  \n",
       "3   3.7     4.2  \n",
       "4   1.1     4.0  "
      ],
      "text/html": [
       "<div>\n",
       "<style scoped>\n",
       "    .dataframe tbody tr th:only-of-type {\n",
       "        vertical-align: middle;\n",
       "    }\n",
       "\n",
       "    .dataframe tbody tr th {\n",
       "        vertical-align: top;\n",
       "    }\n",
       "\n",
       "    .dataframe thead th {\n",
       "        text-align: right;\n",
       "    }\n",
       "</style>\n",
       "<table border=\"1\" class=\"dataframe\">\n",
       "  <thead>\n",
       "    <tr style=\"text-align: right;\">\n",
       "      <th></th>\n",
       "      <th>Country</th>\n",
       "      <th>RedMeat</th>\n",
       "      <th>WhiteMeat</th>\n",
       "      <th>Eggs</th>\n",
       "      <th>Milk</th>\n",
       "      <th>Fish</th>\n",
       "      <th>Cereals</th>\n",
       "      <th>Starch</th>\n",
       "      <th>Nuts</th>\n",
       "      <th>Fr&amp;Veg</th>\n",
       "    </tr>\n",
       "  </thead>\n",
       "  <tbody>\n",
       "    <tr>\n",
       "      <th>0</th>\n",
       "      <td>Albania</td>\n",
       "      <td>10.1</td>\n",
       "      <td>1.4</td>\n",
       "      <td>0.5</td>\n",
       "      <td>8.9</td>\n",
       "      <td>0.2</td>\n",
       "      <td>42.3</td>\n",
       "      <td>0.6</td>\n",
       "      <td>5.5</td>\n",
       "      <td>1.7</td>\n",
       "    </tr>\n",
       "    <tr>\n",
       "      <th>1</th>\n",
       "      <td>Austria</td>\n",
       "      <td>8.9</td>\n",
       "      <td>14.0</td>\n",
       "      <td>4.3</td>\n",
       "      <td>19.9</td>\n",
       "      <td>2.1</td>\n",
       "      <td>28.0</td>\n",
       "      <td>3.6</td>\n",
       "      <td>1.3</td>\n",
       "      <td>4.3</td>\n",
       "    </tr>\n",
       "    <tr>\n",
       "      <th>2</th>\n",
       "      <td>Belgium</td>\n",
       "      <td>13.5</td>\n",
       "      <td>9.3</td>\n",
       "      <td>4.1</td>\n",
       "      <td>17.5</td>\n",
       "      <td>4.5</td>\n",
       "      <td>26.6</td>\n",
       "      <td>5.7</td>\n",
       "      <td>2.1</td>\n",
       "      <td>4.0</td>\n",
       "    </tr>\n",
       "    <tr>\n",
       "      <th>3</th>\n",
       "      <td>Bulgaria</td>\n",
       "      <td>7.8</td>\n",
       "      <td>6.0</td>\n",
       "      <td>1.6</td>\n",
       "      <td>8.3</td>\n",
       "      <td>1.2</td>\n",
       "      <td>56.7</td>\n",
       "      <td>1.1</td>\n",
       "      <td>3.7</td>\n",
       "      <td>4.2</td>\n",
       "    </tr>\n",
       "    <tr>\n",
       "      <th>4</th>\n",
       "      <td>Czechoslovakia</td>\n",
       "      <td>9.7</td>\n",
       "      <td>11.4</td>\n",
       "      <td>2.8</td>\n",
       "      <td>12.5</td>\n",
       "      <td>2.0</td>\n",
       "      <td>34.3</td>\n",
       "      <td>5.0</td>\n",
       "      <td>1.1</td>\n",
       "      <td>4.0</td>\n",
       "    </tr>\n",
       "  </tbody>\n",
       "</table>\n",
       "</div>"
      ]
     },
     "execution_count": 21,
     "metadata": {},
     "output_type": "execute_result"
    }
   ],
   "execution_count": 21
  },
  {
   "metadata": {
    "ExecuteTime": {
     "end_time": "2025-05-28T06:48:31.308112Z",
     "start_time": "2025-05-28T06:48:31.288588Z"
    }
   },
   "cell_type": "code",
   "source": "protein.describe()",
   "id": "236e18ff6242c089",
   "outputs": [
    {
     "data": {
      "text/plain": [
       "         RedMeat  WhiteMeat       Eggs       Milk       Fish    Cereals  \\\n",
       "count  25.000000  25.000000  25.000000  25.000000  25.000000  25.000000   \n",
       "mean    9.828000   7.896000   2.936000  17.112000   4.284000  32.248000   \n",
       "std     3.347078   3.694081   1.117617   7.105416   3.402533  10.974786   \n",
       "min     4.400000   1.400000   0.500000   4.900000   0.200000  18.600000   \n",
       "25%     7.800000   4.900000   2.700000  11.100000   2.100000  24.300000   \n",
       "50%     9.500000   7.800000   2.900000  17.600000   3.400000  28.000000   \n",
       "75%    10.600000  10.800000   3.700000  23.300000   5.800000  40.100000   \n",
       "max    18.000000  14.000000   4.700000  33.700000  14.200000  56.700000   \n",
       "\n",
       "          Starch       Nuts     Fr&Veg  \n",
       "count  25.000000  25.000000  25.000000  \n",
       "mean    4.276000   3.072000   4.136000  \n",
       "std     1.634085   1.985682   1.803903  \n",
       "min     0.600000   0.700000   1.400000  \n",
       "25%     3.100000   1.500000   2.900000  \n",
       "50%     4.700000   2.400000   3.800000  \n",
       "75%     5.700000   4.700000   4.900000  \n",
       "max     6.500000   7.800000   7.900000  "
      ],
      "text/html": [
       "<div>\n",
       "<style scoped>\n",
       "    .dataframe tbody tr th:only-of-type {\n",
       "        vertical-align: middle;\n",
       "    }\n",
       "\n",
       "    .dataframe tbody tr th {\n",
       "        vertical-align: top;\n",
       "    }\n",
       "\n",
       "    .dataframe thead th {\n",
       "        text-align: right;\n",
       "    }\n",
       "</style>\n",
       "<table border=\"1\" class=\"dataframe\">\n",
       "  <thead>\n",
       "    <tr style=\"text-align: right;\">\n",
       "      <th></th>\n",
       "      <th>RedMeat</th>\n",
       "      <th>WhiteMeat</th>\n",
       "      <th>Eggs</th>\n",
       "      <th>Milk</th>\n",
       "      <th>Fish</th>\n",
       "      <th>Cereals</th>\n",
       "      <th>Starch</th>\n",
       "      <th>Nuts</th>\n",
       "      <th>Fr&amp;Veg</th>\n",
       "    </tr>\n",
       "  </thead>\n",
       "  <tbody>\n",
       "    <tr>\n",
       "      <th>count</th>\n",
       "      <td>25.000000</td>\n",
       "      <td>25.000000</td>\n",
       "      <td>25.000000</td>\n",
       "      <td>25.000000</td>\n",
       "      <td>25.000000</td>\n",
       "      <td>25.000000</td>\n",
       "      <td>25.000000</td>\n",
       "      <td>25.000000</td>\n",
       "      <td>25.000000</td>\n",
       "    </tr>\n",
       "    <tr>\n",
       "      <th>mean</th>\n",
       "      <td>9.828000</td>\n",
       "      <td>7.896000</td>\n",
       "      <td>2.936000</td>\n",
       "      <td>17.112000</td>\n",
       "      <td>4.284000</td>\n",
       "      <td>32.248000</td>\n",
       "      <td>4.276000</td>\n",
       "      <td>3.072000</td>\n",
       "      <td>4.136000</td>\n",
       "    </tr>\n",
       "    <tr>\n",
       "      <th>std</th>\n",
       "      <td>3.347078</td>\n",
       "      <td>3.694081</td>\n",
       "      <td>1.117617</td>\n",
       "      <td>7.105416</td>\n",
       "      <td>3.402533</td>\n",
       "      <td>10.974786</td>\n",
       "      <td>1.634085</td>\n",
       "      <td>1.985682</td>\n",
       "      <td>1.803903</td>\n",
       "    </tr>\n",
       "    <tr>\n",
       "      <th>min</th>\n",
       "      <td>4.400000</td>\n",
       "      <td>1.400000</td>\n",
       "      <td>0.500000</td>\n",
       "      <td>4.900000</td>\n",
       "      <td>0.200000</td>\n",
       "      <td>18.600000</td>\n",
       "      <td>0.600000</td>\n",
       "      <td>0.700000</td>\n",
       "      <td>1.400000</td>\n",
       "    </tr>\n",
       "    <tr>\n",
       "      <th>25%</th>\n",
       "      <td>7.800000</td>\n",
       "      <td>4.900000</td>\n",
       "      <td>2.700000</td>\n",
       "      <td>11.100000</td>\n",
       "      <td>2.100000</td>\n",
       "      <td>24.300000</td>\n",
       "      <td>3.100000</td>\n",
       "      <td>1.500000</td>\n",
       "      <td>2.900000</td>\n",
       "    </tr>\n",
       "    <tr>\n",
       "      <th>50%</th>\n",
       "      <td>9.500000</td>\n",
       "      <td>7.800000</td>\n",
       "      <td>2.900000</td>\n",
       "      <td>17.600000</td>\n",
       "      <td>3.400000</td>\n",
       "      <td>28.000000</td>\n",
       "      <td>4.700000</td>\n",
       "      <td>2.400000</td>\n",
       "      <td>3.800000</td>\n",
       "    </tr>\n",
       "    <tr>\n",
       "      <th>75%</th>\n",
       "      <td>10.600000</td>\n",
       "      <td>10.800000</td>\n",
       "      <td>3.700000</td>\n",
       "      <td>23.300000</td>\n",
       "      <td>5.800000</td>\n",
       "      <td>40.100000</td>\n",
       "      <td>5.700000</td>\n",
       "      <td>4.700000</td>\n",
       "      <td>4.900000</td>\n",
       "    </tr>\n",
       "    <tr>\n",
       "      <th>max</th>\n",
       "      <td>18.000000</td>\n",
       "      <td>14.000000</td>\n",
       "      <td>4.700000</td>\n",
       "      <td>33.700000</td>\n",
       "      <td>14.200000</td>\n",
       "      <td>56.700000</td>\n",
       "      <td>6.500000</td>\n",
       "      <td>7.800000</td>\n",
       "      <td>7.900000</td>\n",
       "    </tr>\n",
       "  </tbody>\n",
       "</table>\n",
       "</div>"
      ]
     },
     "execution_count": 22,
     "metadata": {},
     "output_type": "execute_result"
    }
   ],
   "execution_count": 22
  },
  {
   "metadata": {
    "ExecuteTime": {
     "end_time": "2025-05-28T06:48:31.873076Z",
     "start_time": "2025-05-28T06:48:31.867794Z"
    }
   },
   "cell_type": "code",
   "source": "protein.shape",
   "id": "b5a9f15df8fd502e",
   "outputs": [
    {
     "data": {
      "text/plain": [
       "(25, 10)"
      ]
     },
     "execution_count": 23,
     "metadata": {},
     "output_type": "execute_result"
    }
   ],
   "execution_count": 23
  },
  {
   "metadata": {
    "ExecuteTime": {
     "end_time": "2025-05-28T06:48:32.379457Z",
     "start_time": "2025-05-28T06:48:32.367456Z"
    }
   },
   "cell_type": "code",
   "source": [
    "from sklearn import preprocessing\n",
    " \n",
    "sprotein = protein.drop(['Country'], axis = 1) # 删除Country列之后的数据\n",
    "sprotein.head()"
   ],
   "id": "68f4299e57740031",
   "outputs": [
    {
     "data": {
      "text/plain": [
       "   RedMeat  WhiteMeat  Eggs  Milk  Fish  Cereals  Starch  Nuts  Fr&Veg\n",
       "0     10.1        1.4   0.5   8.9   0.2     42.3     0.6   5.5     1.7\n",
       "1      8.9       14.0   4.3  19.9   2.1     28.0     3.6   1.3     4.3\n",
       "2     13.5        9.3   4.1  17.5   4.5     26.6     5.7   2.1     4.0\n",
       "3      7.8        6.0   1.6   8.3   1.2     56.7     1.1   3.7     4.2\n",
       "4      9.7       11.4   2.8  12.5   2.0     34.3     5.0   1.1     4.0"
      ],
      "text/html": [
       "<div>\n",
       "<style scoped>\n",
       "    .dataframe tbody tr th:only-of-type {\n",
       "        vertical-align: middle;\n",
       "    }\n",
       "\n",
       "    .dataframe tbody tr th {\n",
       "        vertical-align: top;\n",
       "    }\n",
       "\n",
       "    .dataframe thead th {\n",
       "        text-align: right;\n",
       "    }\n",
       "</style>\n",
       "<table border=\"1\" class=\"dataframe\">\n",
       "  <thead>\n",
       "    <tr style=\"text-align: right;\">\n",
       "      <th></th>\n",
       "      <th>RedMeat</th>\n",
       "      <th>WhiteMeat</th>\n",
       "      <th>Eggs</th>\n",
       "      <th>Milk</th>\n",
       "      <th>Fish</th>\n",
       "      <th>Cereals</th>\n",
       "      <th>Starch</th>\n",
       "      <th>Nuts</th>\n",
       "      <th>Fr&amp;Veg</th>\n",
       "    </tr>\n",
       "  </thead>\n",
       "  <tbody>\n",
       "    <tr>\n",
       "      <th>0</th>\n",
       "      <td>10.1</td>\n",
       "      <td>1.4</td>\n",
       "      <td>0.5</td>\n",
       "      <td>8.9</td>\n",
       "      <td>0.2</td>\n",
       "      <td>42.3</td>\n",
       "      <td>0.6</td>\n",
       "      <td>5.5</td>\n",
       "      <td>1.7</td>\n",
       "    </tr>\n",
       "    <tr>\n",
       "      <th>1</th>\n",
       "      <td>8.9</td>\n",
       "      <td>14.0</td>\n",
       "      <td>4.3</td>\n",
       "      <td>19.9</td>\n",
       "      <td>2.1</td>\n",
       "      <td>28.0</td>\n",
       "      <td>3.6</td>\n",
       "      <td>1.3</td>\n",
       "      <td>4.3</td>\n",
       "    </tr>\n",
       "    <tr>\n",
       "      <th>2</th>\n",
       "      <td>13.5</td>\n",
       "      <td>9.3</td>\n",
       "      <td>4.1</td>\n",
       "      <td>17.5</td>\n",
       "      <td>4.5</td>\n",
       "      <td>26.6</td>\n",
       "      <td>5.7</td>\n",
       "      <td>2.1</td>\n",
       "      <td>4.0</td>\n",
       "    </tr>\n",
       "    <tr>\n",
       "      <th>3</th>\n",
       "      <td>7.8</td>\n",
       "      <td>6.0</td>\n",
       "      <td>1.6</td>\n",
       "      <td>8.3</td>\n",
       "      <td>1.2</td>\n",
       "      <td>56.7</td>\n",
       "      <td>1.1</td>\n",
       "      <td>3.7</td>\n",
       "      <td>4.2</td>\n",
       "    </tr>\n",
       "    <tr>\n",
       "      <th>4</th>\n",
       "      <td>9.7</td>\n",
       "      <td>11.4</td>\n",
       "      <td>2.8</td>\n",
       "      <td>12.5</td>\n",
       "      <td>2.0</td>\n",
       "      <td>34.3</td>\n",
       "      <td>5.0</td>\n",
       "      <td>1.1</td>\n",
       "      <td>4.0</td>\n",
       "    </tr>\n",
       "  </tbody>\n",
       "</table>\n",
       "</div>"
      ]
     },
     "execution_count": 24,
     "metadata": {},
     "output_type": "execute_result"
    }
   ],
   "execution_count": 24
  },
  {
   "metadata": {
    "ExecuteTime": {
     "end_time": "2025-05-28T06:48:32.905833Z",
     "start_time": "2025-05-28T06:48:32.898384Z"
    }
   },
   "cell_type": "code",
   "source": [
    "sprotein_scaled = preprocessing.scale(sprotein) # 对数据进行标准化\n",
    "sprotein_scaled"
   ],
   "id": "256b5830919d6e26",
   "outputs": [
    {
     "data": {
      "text/plain": [
       "array([[ 0.08294065, -1.79475017, -2.22458425, -1.1795703 , -1.22503282,\n",
       "         0.9348045 , -2.29596509,  1.24796771, -1.37825141],\n",
       "       [-0.28297397,  1.68644628,  1.24562107,  0.40046785, -0.6551106 ,\n",
       "        -0.39505069, -0.42221774, -0.91079027,  0.09278868],\n",
       "       [ 1.11969872,  0.38790475,  1.06297868,  0.05573225,  0.06479116,\n",
       "        -0.5252463 ,  0.88940541, -0.49959828, -0.07694671],\n",
       "       [-0.6183957 , -0.52383718, -1.22005113, -1.2657542 , -0.92507375,\n",
       "         2.27395937, -1.98367386,  0.32278572,  0.03621022],\n",
       "       [-0.03903089,  0.96810416, -0.12419682, -0.6624669 , -0.6851065 ,\n",
       "         0.19082957,  0.45219769, -1.01358827, -0.07694671],\n",
       "       [ 0.23540507,  0.8023329 ,  0.69769391,  1.13303099,  1.68457011,\n",
       "        -0.96233157,  0.3272812 , -1.21918427, -0.98220215],\n",
       "       [-0.43543839,  1.02336124,  0.69769391, -0.86356267,  0.33475432,\n",
       "        -0.71124003,  1.38907137, -1.16778527, -0.30326057],\n",
       "       [-0.10001666, -0.82775116, -0.21551801,  2.38269753,  0.45473794,\n",
       "        -0.55314536,  0.51465594, -1.06498727, -1.5479868 ],\n",
       "       [ 2.49187852,  0.55367601,  0.33240914,  0.34301192,  0.42474204,\n",
       "        -0.385751  ,  0.3272812 , -0.34540128,  1.33751491],\n",
       "       [ 0.11343353, -1.35269348, -0.12419682,  0.07009624,  0.48473385,\n",
       "         0.87900638, -1.29663317,  2.4301447 ,  1.33751491],\n",
       "       [-1.38071781,  1.24438959, -0.03287563, -1.06465843, -1.19503691,\n",
       "         0.73021139, -0.17238476,  1.19656871,  0.03621022],\n",
       "       [ 1.24167025,  0.58130455,  1.61090584,  1.24794286, -0.62511469,\n",
       "        -0.76703815,  1.20169663, -0.75659327, -0.69930983],\n",
       "       [-0.25248108, -0.77249407, -0.03287563, -0.49009911, -0.26516381,\n",
       "         0.42332173, -1.35909141,  0.63117972,  1.45067184],\n",
       "       [-0.10001666,  1.57593211,  0.60637272,  0.90320726, -0.53512697,\n",
       "        -0.91583314, -0.04746827, -0.65379528, -0.24668211],\n",
       "       [-0.13050955, -0.88300824, -0.21551801,  0.88884328,  1.62457829,\n",
       "        -0.86003502,  0.20236471, -0.75659327, -0.81246676],\n",
       "       [-0.89283166,  0.63656164, -0.21551801,  0.31428395, -0.38514744,\n",
       "         0.35822393,  1.0143219 , -0.55099728,  1.39409338],\n",
       "       [-1.10628185, -1.15929368, -1.67665709, -1.75412962,  2.97439408,\n",
       "        -0.48804755,  1.0143219 ,  0.83677571,  2.12961342],\n",
       "       [-1.10628185, -0.44095155, -1.31137232, -0.86356267, -0.98506557,\n",
       "         1.61368162, -0.73450896,  1.14516971, -0.75588829],\n",
       "       [-0.83184589, -1.24217931,  0.14976676, -1.22266225,  0.81468882,\n",
       "        -0.28345445,  0.88940541,  1.45356371,  1.73356417],\n",
       "       [ 0.02195488, -0.0265234 ,  0.51505153,  1.08993904,  0.96466835,\n",
       "        -1.18552405, -0.35975949, -0.85939127, -1.20851601],\n",
       "       [ 0.99772718,  0.60893309,  0.14976676,  0.96066319, -0.59511878,\n",
       "        -0.61824316, -0.9218837 , -0.34540128,  0.43225947],\n",
       "       [ 2.30892121, -0.60672281,  1.61090584,  0.50101573,  0.00479935,\n",
       "        -0.73913909,  0.26482296,  0.16858872, -0.47299597],\n",
       "       [-0.16100243, -0.91063679, -0.76344517, -0.07354359, -0.38514744,\n",
       "         1.05570042,  1.32661312,  0.16858872, -0.69930983],\n",
       "       [ 0.47934814,  1.27201813,  1.06297868,  0.24246404, -0.26516381,\n",
       "        -1.26922123,  0.57711418, -0.80799227, -0.19010364],\n",
       "       [-1.65515377, -0.80012261, -1.5853359 , -1.0933864 , -1.10504919,\n",
       "         2.19956187, -0.79696721,  1.35076571, -0.52957443]])"
      ]
     },
     "execution_count": 25,
     "metadata": {},
     "output_type": "execute_result"
    }
   ],
   "execution_count": 25
  },
  {
   "metadata": {
    "ExecuteTime": {
     "end_time": "2025-05-28T06:48:33.693018Z",
     "start_time": "2025-05-28T06:48:33.580077Z"
    }
   },
   "cell_type": "code",
   "source": [
    "from sklearn.cluster import KMeans\n",
    "NumberOfClusters = range(1,20)\n",
    "kmeans = [KMeans(n_clusters=i) for i in NumberOfClusters] # 20个不同聚类数的KMeans模型\n",
    "score = [kmeans[i].fit(sprotein_scaled).score(sprotein_scaled) for i in range(len(kmeans))] # 模型得分\n",
    "score # 得分越接近0，聚类效果越好"
   ],
   "id": "13039dbffe7ee6ab",
   "outputs": [
    {
     "data": {
      "text/plain": [
       "[-225.0,\n",
       " -139.50737044831814,\n",
       " -110.40242709032152,\n",
       " -98.14071098834387,\n",
       " -79.75078787264593,\n",
       " -64.86386265431308,\n",
       " -61.95663775978185,\n",
       " -51.15413109846055,\n",
       " -42.436721568947384,\n",
       " -38.30910506955877,\n",
       " -31.516218916831562,\n",
       " -34.990146433598504,\n",
       " -23.424715035186374,\n",
       " -21.05606799379927,\n",
       " -17.392770968044893,\n",
       " -13.40313088884278,\n",
       " -12.017407331720612,\n",
       " -10.165640436418396,\n",
       " -6.96865853755501]"
      ]
     },
     "execution_count": 26,
     "metadata": {},
     "output_type": "execute_result"
    }
   ],
   "execution_count": 26
  },
  {
   "metadata": {
    "ExecuteTime": {
     "end_time": "2025-05-28T06:48:34.736113Z",
     "start_time": "2025-05-28T06:48:34.640617Z"
    }
   },
   "cell_type": "code",
   "source": [
    "# 分数可视化\n",
    "plt.plot(NumberOfClusters, score)\n",
    "plt.xlabel('Number of Clusters')\n",
    "plt.ylabel('Score')\n",
    "plt.title('Elbow Curve')\n",
    "plt.show()\n",
    "# 画出肘部曲线，选择最优聚类数"
   ],
   "id": "3cda33f827ba705e",
   "outputs": [
    {
     "data": {
      "text/plain": [
       "<Figure size 640x480 with 1 Axes>"
      ],
      "image/png": "[encoded data removed]"
     },
     "metadata": {},
     "output_type": "display_data"
    }
   ],
   "execution_count": 27
  },
  {
   "metadata": {
    "ExecuteTime": {
     "end_time": "2025-05-28T06:51:59.084829Z",
     "start_time": "2025-05-28T06:51:59.051278Z"
    }
   },
   "cell_type": "code",
   "source": [
    "# y_k_means = myKMeans.predict(sprotein)\n",
    "myKmeans = KMeans(algorithm='lloyd',n_clusters=5,n_init=10,max_iter=200,verbose=0)\n",
    "myKmeans.fit(sprotein_scaled)\n",
    "y_kmeans = myKmeans.predict(sprotein)"
   ],
   "id": "5755b4bd9f0a5d85",
   "outputs": [
    {
     "name": "stderr",
     "output_type": "stream",
     "text": [
      "E:\\Software\\anaconda3\\envs\\python312\\Lib\\site-packages\\sklearn\\utils\\validation.py:2732: UserWarning: X has feature names, but KMeans was fitted without feature names\n",
      "  warnings.warn(\n"
     ]
    }
   ],
   "execution_count": 30
  },
  {
   "metadata": {
    "ExecuteTime": {
     "end_time": "2025-05-28T06:52:01.022877Z",
     "start_time": "2025-05-28T06:52:01.010378Z"
    }
   },
   "cell_type": "code",
   "source": [
    "protein['Cluster'] = y_kmeans\n",
    "protein.head(3)"
   ],
   "id": "56c3a23c86669490",
   "outputs": [
    {
     "data": {
      "text/plain": [
       "   Country  RedMeat  WhiteMeat  Eggs  Milk  Fish  Cereals  Starch  Nuts  \\\n",
       "0  Albania     10.1        1.4   0.5   8.9   0.2     42.3     0.6   5.5   \n",
       "1  Austria      8.9       14.0   4.3  19.9   2.1     28.0     3.6   1.3   \n",
       "2  Belgium     13.5        9.3   4.1  17.5   4.5     26.6     5.7   2.1   \n",
       "\n",
       "   Fr&Veg  Cluster  \n",
       "0     1.7        4  \n",
       "1     4.3        3  \n",
       "2     4.0        3  "
      ],
      "text/html": [
       "<div>\n",
       "<style scoped>\n",
       "    .dataframe tbody tr th:only-of-type {\n",
       "        vertical-align: middle;\n",
       "    }\n",
       "\n",
       "    .dataframe tbody tr th {\n",
       "        vertical-align: top;\n",
       "    }\n",
       "\n",
       "    .dataframe thead th {\n",
       "        text-align: right;\n",
       "    }\n",
       "</style>\n",
       "<table border=\"1\" class=\"dataframe\">\n",
       "  <thead>\n",
       "    <tr style=\"text-align: right;\">\n",
       "      <th></th>\n",
       "      <th>Country</th>\n",
       "      <th>RedMeat</th>\n",
       "      <th>WhiteMeat</th>\n",
       "      <th>Eggs</th>\n",
       "      <th>Milk</th>\n",
       "      <th>Fish</th>\n",
       "      <th>Cereals</th>\n",
       "      <th>Starch</th>\n",
       "      <th>Nuts</th>\n",
       "      <th>Fr&amp;Veg</th>\n",
       "      <th>Cluster</th>\n",
       "    </tr>\n",
       "  </thead>\n",
       "  <tbody>\n",
       "    <tr>\n",
       "      <th>0</th>\n",
       "      <td>Albania</td>\n",
       "      <td>10.1</td>\n",
       "      <td>1.4</td>\n",
       "      <td>0.5</td>\n",
       "      <td>8.9</td>\n",
       "      <td>0.2</td>\n",
       "      <td>42.3</td>\n",
       "      <td>0.6</td>\n",
       "      <td>5.5</td>\n",
       "      <td>1.7</td>\n",
       "      <td>4</td>\n",
       "    </tr>\n",
       "    <tr>\n",
       "      <th>1</th>\n",
       "      <td>Austria</td>\n",
       "      <td>8.9</td>\n",
       "      <td>14.0</td>\n",
       "      <td>4.3</td>\n",
       "      <td>19.9</td>\n",
       "      <td>2.1</td>\n",
       "      <td>28.0</td>\n",
       "      <td>3.6</td>\n",
       "      <td>1.3</td>\n",
       "      <td>4.3</td>\n",
       "      <td>3</td>\n",
       "    </tr>\n",
       "    <tr>\n",
       "      <th>2</th>\n",
       "      <td>Belgium</td>\n",
       "      <td>13.5</td>\n",
       "      <td>9.3</td>\n",
       "      <td>4.1</td>\n",
       "      <td>17.5</td>\n",
       "      <td>4.5</td>\n",
       "      <td>26.6</td>\n",
       "      <td>5.7</td>\n",
       "      <td>2.1</td>\n",
       "      <td>4.0</td>\n",
       "      <td>3</td>\n",
       "    </tr>\n",
       "  </tbody>\n",
       "</table>\n",
       "</div>"
      ]
     },
     "execution_count": 31,
     "metadata": {},
     "output_type": "execute_result"
    }
   ],
   "execution_count": 31
  },
  {
   "metadata": {},
   "cell_type": "code",
   "outputs": [],
   "execution_count": null,
   "source": "",
   "id": "4baacbf0b2db1ecf"
  },
  {
   "metadata": {
    "ExecuteTime": {
     "end_time": "2025-05-28T06:53:33.769797Z",
     "start_time": "2025-05-28T06:53:33.750789Z"
    }
   },
   "cell_type": "code",
   "source": [
    "# from Bio.Cluster import kcluster\n",
    "# clusterid,error,nfound = kcluster(protein1,clusters,dist='u',npass=100)\n",
    "# silhouette_avg = silhouette_score(sprotein1, clusterid,metric='cosine')"
   ],
   "id": "77a85dbbc774d5fb",
   "outputs": [
    {
     "ename": "NameError",
     "evalue": "name 'protein1' is not defined",
     "output_type": "error",
     "traceback": [
      "\u001B[1;31m---------------------------------------------------------------------------\u001B[0m",
      "\u001B[1;31mNameError\u001B[0m                                 Traceback (most recent call last)",
      "Cell \u001B[1;32mIn[35], line 2\u001B[0m\n\u001B[0;32m      1\u001B[0m \u001B[38;5;28;01mfrom\u001B[39;00m\u001B[38;5;250m \u001B[39m\u001B[38;5;21;01mBio\u001B[39;00m\u001B[38;5;21;01m.\u001B[39;00m\u001B[38;5;21;01mCluster\u001B[39;00m\u001B[38;5;250m \u001B[39m\u001B[38;5;28;01mimport\u001B[39;00m kcluster\n\u001B[1;32m----> 2\u001B[0m clusterid,error,nfound \u001B[38;5;241m=\u001B[39m kcluster(protein1,clusters,dist\u001B[38;5;241m=\u001B[39m\u001B[38;5;124m'\u001B[39m\u001B[38;5;124mu\u001B[39m\u001B[38;5;124m'\u001B[39m,npass\u001B[38;5;241m=\u001B[39m\u001B[38;5;241m100\u001B[39m)\n\u001B[0;32m      3\u001B[0m silhouette_avg \u001B[38;5;241m=\u001B[39m silhouette_score(sprotein1, clusterid,metric\u001B[38;5;241m=\u001B[39m\u001B[38;5;124m'\u001B[39m\u001B[38;5;124mcosine\u001B[39m\u001B[38;5;124m'\u001B[39m)\n",
      "\u001B[1;31mNameError\u001B[0m: name 'protein1' is not defined"
     ]
    }
   ],
   "execution_count": 35
  },
  {
   "metadata": {
    "ExecuteTime": {
     "end_time": "2025-05-28T06:25:35.932846Z",
     "start_time": "2025-05-28T06:25:35.846837Z"
    }
   },
   "cell_type": "code",
   "source": [
    "# param_test = {'n_clusters':np.ange(2,19,1)}\n",
    "# gridsearch = GridSearchCV(estimator=KMeans(),param_grid=param_test,cv=5)\n",
    "# print(gridsearch.fit(protein['RedMeat','WhiteMeat','Eggs']))\n",
    "# print_kmcluster(4)"
   ],
   "id": "eff65d6478d883de",
   "outputs": [
    {
     "ename": "AttributeError",
     "evalue": "module 'numpy' has no attribute 'ange'",
     "output_type": "error",
     "traceback": [
      "\u001B[1;31m---------------------------------------------------------------------------\u001B[0m",
      "\u001B[1;31mAttributeError\u001B[0m                            Traceback (most recent call last)",
      "Cell \u001B[1;32mIn[14], line 1\u001B[0m\n\u001B[1;32m----> 1\u001B[0m param_test \u001B[38;5;241m=\u001B[39m {\u001B[38;5;124m'\u001B[39m\u001B[38;5;124mn_clusters\u001B[39m\u001B[38;5;124m'\u001B[39m:np\u001B[38;5;241m.\u001B[39mange(\u001B[38;5;241m2\u001B[39m,\u001B[38;5;241m19\u001B[39m,\u001B[38;5;241m1\u001B[39m)}\n\u001B[0;32m      2\u001B[0m gridsearch \u001B[38;5;241m=\u001B[39m GridSearchCV(estimator\u001B[38;5;241m=\u001B[39mKMeans(),param_grid\u001B[38;5;241m=\u001B[39mparam_test,cv\u001B[38;5;241m=\u001B[39m\u001B[38;5;241m5\u001B[39m)\n\u001B[0;32m      3\u001B[0m \u001B[38;5;28mprint\u001B[39m(gridsearch\u001B[38;5;241m.\u001B[39mfit(protein[\u001B[38;5;124m'\u001B[39m\u001B[38;5;124mRedMeat\u001B[39m\u001B[38;5;124m'\u001B[39m,\u001B[38;5;124m'\u001B[39m\u001B[38;5;124mWhiteMeat\u001B[39m\u001B[38;5;124m'\u001B[39m,\u001B[38;5;124m'\u001B[39m\u001B[38;5;124mEggs\u001B[39m\u001B[38;5;124m'\u001B[39m]))\n",
      "File \u001B[1;32mE:\\Software\\anaconda3\\envs\\python312\\Lib\\site-packages\\numpy\\__init__.py:427\u001B[0m, in \u001B[0;36m__getattr__\u001B[1;34m(attr)\u001B[0m\n\u001B[0;32m    424\u001B[0m     \u001B[38;5;28;01mimport\u001B[39;00m\u001B[38;5;250m \u001B[39m\u001B[38;5;21;01mnumpy\u001B[39;00m\u001B[38;5;21;01m.\u001B[39;00m\u001B[38;5;21;01mchar\u001B[39;00m\u001B[38;5;250m \u001B[39m\u001B[38;5;28;01mas\u001B[39;00m\u001B[38;5;250m \u001B[39m\u001B[38;5;21;01mchar\u001B[39;00m\n\u001B[0;32m    425\u001B[0m     \u001B[38;5;28;01mreturn\u001B[39;00m char\u001B[38;5;241m.\u001B[39mchararray\n\u001B[1;32m--> 427\u001B[0m \u001B[38;5;28;01mraise\u001B[39;00m \u001B[38;5;167;01mAttributeError\u001B[39;00m(\u001B[38;5;124m\"\u001B[39m\u001B[38;5;124mmodule \u001B[39m\u001B[38;5;132;01m{!r}\u001B[39;00m\u001B[38;5;124m has no attribute \u001B[39m\u001B[38;5;124m\"\u001B[39m\n\u001B[0;32m    428\u001B[0m                      \u001B[38;5;124m\"\u001B[39m\u001B[38;5;132;01m{!r}\u001B[39;00m\u001B[38;5;124m\"\u001B[39m\u001B[38;5;241m.\u001B[39mformat(\u001B[38;5;18m__name__\u001B[39m, attr))\n",
      "\u001B[1;31mAttributeError\u001B[0m: module 'numpy' has no attribute 'ange'"
     ]
    }
   ],
   "execution_count": 14
  },
  {
   "metadata": {},
   "cell_type": "code",
   "outputs": [],
   "execution_count": null,
   "source": "",
   "id": "802baea8b8fcdbf"
  }
 ],
 "metadata": {
  "kernelspec": {
   "display_name": "Python 3",
   "language": "python",
   "name": "python3"
  },
  "language_info": {
   "codemirror_mode": {
    "name": "ipython",
    "version": 2
   },
   "file_extension": ".py",
   "mimetype": "text/x-python",
   "name": "python",
   "nbconvert_exporter": "python",
   "pygments_lexer": "ipython2",
   "version": "2.7.6"
  }
 },
 "nbformat": 4,
 "nbformat_minor": 5
}
